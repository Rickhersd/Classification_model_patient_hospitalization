{
  "cells": [
    {
      "cell_type": "markdown",
      "metadata": {
        "id": "4WaoEOp0KkSp"
      },
      "source": [
        "# **Análisis Exploratorio y Transformacion de Datos**\n",
        "\n",
        "El notebook que se presenta a continuación corresponde a todo el análisis y transformación de datos que se realizó previo al entrenamiento del modelo de Machine Learning solicitado por el cliente. Desde un principio, el departamento de datos advirtió que habían algunos problemas de calidad de datos, por lo que el análisis se hizo a profundidad identificando outliers y ejecutando todos los cambios necesarios."
      ]
    },
    {
      "cell_type": "markdown",
      "metadata": {
        "id": "gJGjHKFGuplK"
      },
      "source": [
        "## **Utilidades**\n",
        "\n",
        "Para el análisis se crearon unas funciones que facilitaron las transformaciones y visualización de los datos. Todas estas funciones se encuentran disponibles en el archivo utils.py en la raíz del repositorio del proyecto."
      ]
    },
    {
      "cell_type": "markdown",
      "metadata": {
        "id": "8X6LTGESHndH"
      },
      "source": [
        "## **Carga de Datos y Librerías Necesarias**"
      ]
    },
    {
      "cell_type": "code",
      "execution_count": 24,
      "metadata": {
        "colab": {
          "base_uri": "https://localhost:8080/"
        },
        "id": "dlRCMYtGLqDJ",
        "outputId": "76dac293-b4e3-4007-be19-347473ea1c54"
      },
      "outputs": [
        {
          "name": "stderr",
          "output_type": "stream",
          "text": [
            "/home/rickhersd2002/.pyenv/versions/3.11.4/lib/python3.11/site-packages/openpyxl/worksheet/_reader.py:329: UserWarning: Unknown extension is not supported and will be removed\n",
            "  warn(msg)\n"
          ]
        }
      ],
      "source": [
        "import pandas as pd\n",
        "import matplotlib.pyplot as plt\n",
        "import seaborn as sns\n",
        "import numpy as np\n",
        "import Utils as tl\n",
        "import json\n",
        "\n",
        "df = pd.read_excel('./src/BBDD_Hospitalizacion.xlsx')"
      ]
    },
    {
      "cell_type": "markdown",
      "metadata": {
        "id": "rODHZ7nIqHV_"
      },
      "source": [
        "## **Análisis General**\n",
        "\n",
        "Se comenzó analizando el dataset a nivel general identificando valores nulos y renombrando las columnas."
      ]
    },
    {
      "cell_type": "markdown",
      "metadata": {
        "id": "CNg3iWxZdaL1"
      },
      "source": [
        "### **Previsualización del Dataset**"
      ]
    },
    {
      "cell_type": "code",
      "execution_count": 25,
      "metadata": {
        "colab": {
          "base_uri": "https://localhost:8080/",
          "height": 426
        },
        "id": "xBbt38BwdhoY",
        "outputId": "8f1a44a4-3a0b-4ec5-b808-2685234e3f16"
      },
      "outputs": [
        {
          "data": {
            "text/html": [
              "<div>\n",
              "<style scoped>\n",
              "    .dataframe tbody tr th:only-of-type {\n",
              "        vertical-align: middle;\n",
              "    }\n",
              "\n",
              "    .dataframe tbody tr th {\n",
              "        vertical-align: top;\n",
              "    }\n",
              "\n",
              "    .dataframe thead th {\n",
              "        text-align: right;\n",
              "    }\n",
              "</style>\n",
              "<table border=\"1\" class=\"dataframe\">\n",
              "  <thead>\n",
              "    <tr style=\"text-align: right;\">\n",
              "      <th></th>\n",
              "      <th>EDAD</th>\n",
              "      <th>DIABETES</th>\n",
              "      <th>HOSPITALIZACIÓN ULTIMO MES</th>\n",
              "      <th>PSA</th>\n",
              "      <th>BIOPSIAS PREVIAS</th>\n",
              "      <th>VOLUMEN PROSTATICO</th>\n",
              "      <th>ANTIBIOTICO UTILIAZADO EN LA PROFILAXIS</th>\n",
              "      <th>NUMERO DE MUESTRAS TOMADAS</th>\n",
              "      <th>CUP</th>\n",
              "      <th>ENF. CRONICA PULMONAR OBSTRUCTIVA</th>\n",
              "      <th>BIOPSIA</th>\n",
              "      <th>NUMERO DE DIAS POST BIOPSIA EN QUE SE PRESENTA LA COMPLICACIÓN INFECCIOSA</th>\n",
              "      <th>FIEBRE</th>\n",
              "      <th>ITU</th>\n",
              "      <th>TIPO DE CULTIVO</th>\n",
              "      <th>AGENTE AISLADO</th>\n",
              "      <th>PATRON DE RESISTENCIA</th>\n",
              "      <th>HOSPITALIZACION</th>\n",
              "      <th>DIAS HOSPITALIZACION MQ</th>\n",
              "      <th>DIAS HOSPITALIZACIÓN UPC</th>\n",
              "    </tr>\n",
              "  </thead>\n",
              "  <tbody>\n",
              "    <tr>\n",
              "      <th>0</th>\n",
              "      <td>53.0</td>\n",
              "      <td>NO</td>\n",
              "      <td>NO</td>\n",
              "      <td>4.0</td>\n",
              "      <td>NO</td>\n",
              "      <td>SI</td>\n",
              "      <td>FLUOROQUINOLONA_AMINOGLICOSIDO</td>\n",
              "      <td>12.0</td>\n",
              "      <td>NO</td>\n",
              "      <td>NO</td>\n",
              "      <td>NEG</td>\n",
              "      <td>1</td>\n",
              "      <td>SI</td>\n",
              "      <td>NO</td>\n",
              "      <td>NO</td>\n",
              "      <td>NO</td>\n",
              "      <td>NO</td>\n",
              "      <td>SI</td>\n",
              "      <td>2.0</td>\n",
              "      <td>0.0</td>\n",
              "    </tr>\n",
              "    <tr>\n",
              "      <th>1</th>\n",
              "      <td>56.0</td>\n",
              "      <td>NO</td>\n",
              "      <td>NO</td>\n",
              "      <td>7.7</td>\n",
              "      <td>NO</td>\n",
              "      <td>SI</td>\n",
              "      <td>FLUOROQUINOLONA_AMINOGLICOSIDO</td>\n",
              "      <td>12.0</td>\n",
              "      <td>NO</td>\n",
              "      <td>NO</td>\n",
              "      <td>NEG</td>\n",
              "      <td>1</td>\n",
              "      <td>SI</td>\n",
              "      <td>NO</td>\n",
              "      <td>NO</td>\n",
              "      <td>NO</td>\n",
              "      <td>NO</td>\n",
              "      <td>SI</td>\n",
              "      <td>5.0</td>\n",
              "      <td>0.0</td>\n",
              "    </tr>\n",
              "    <tr>\n",
              "      <th>2</th>\n",
              "      <td>57.0</td>\n",
              "      <td>NO</td>\n",
              "      <td>NO</td>\n",
              "      <td>29.0</td>\n",
              "      <td>SI</td>\n",
              "      <td>SI</td>\n",
              "      <td>FLUOROQUINOLONA_AMINOGLICOSIDO</td>\n",
              "      <td>24.0</td>\n",
              "      <td>NO</td>\n",
              "      <td>NO</td>\n",
              "      <td>NEG</td>\n",
              "      <td>1</td>\n",
              "      <td>SI</td>\n",
              "      <td>NO</td>\n",
              "      <td>HEMOCULTIVO</td>\n",
              "      <td>E.COLI</td>\n",
              "      <td>AMPI R, CIPRO R, GENTA R, SULFA M R</td>\n",
              "      <td>SI</td>\n",
              "      <td>4.0</td>\n",
              "      <td>3.0</td>\n",
              "    </tr>\n",
              "    <tr>\n",
              "      <th>3</th>\n",
              "      <td>56.0</td>\n",
              "      <td>NO</td>\n",
              "      <td>NO</td>\n",
              "      <td>7.0</td>\n",
              "      <td>NO</td>\n",
              "      <td>SI</td>\n",
              "      <td>FLUOROQUINOLONA_AMINOGLICOSIDO</td>\n",
              "      <td>12.0</td>\n",
              "      <td>NO</td>\n",
              "      <td>NO</td>\n",
              "      <td>NEG</td>\n",
              "      <td>1</td>\n",
              "      <td>SI</td>\n",
              "      <td>NO</td>\n",
              "      <td>NO</td>\n",
              "      <td>NO</td>\n",
              "      <td>NO</td>\n",
              "      <td>SI</td>\n",
              "      <td>5.0</td>\n",
              "      <td>0.0</td>\n",
              "    </tr>\n",
              "    <tr>\n",
              "      <th>4</th>\n",
              "      <td>55.0</td>\n",
              "      <td>NO</td>\n",
              "      <td>NO</td>\n",
              "      <td>29.0</td>\n",
              "      <td>SI</td>\n",
              "      <td>SI</td>\n",
              "      <td>FLUOROQUINOLONA_AMINOGLICOSIDO</td>\n",
              "      <td>24.0</td>\n",
              "      <td>NO</td>\n",
              "      <td>NO</td>\n",
              "      <td>NEG</td>\n",
              "      <td>1</td>\n",
              "      <td>SI</td>\n",
              "      <td>NO</td>\n",
              "      <td>HEMOCULTIVO</td>\n",
              "      <td>E.COLI</td>\n",
              "      <td>NO</td>\n",
              "      <td>SI</td>\n",
              "      <td>4.0</td>\n",
              "      <td>3.0</td>\n",
              "    </tr>\n",
              "  </tbody>\n",
              "</table>\n",
              "</div>"
            ],
            "text/plain": [
              "   EDAD DIABETES HOSPITALIZACIÓN ULTIMO MES   PSA BIOPSIAS PREVIAS  \\\n",
              "0  53.0       NO                         NO   4.0               NO   \n",
              "1  56.0       NO                         NO   7.7               NO   \n",
              "2  57.0       NO                         NO  29.0               SI   \n",
              "3  56.0       NO                         NO   7.0               NO   \n",
              "4  55.0       NO                         NO  29.0               SI   \n",
              "\n",
              "  VOLUMEN PROSTATICO ANTIBIOTICO UTILIAZADO EN LA PROFILAXIS  \\\n",
              "0                 SI          FLUOROQUINOLONA_AMINOGLICOSIDO   \n",
              "1                 SI          FLUOROQUINOLONA_AMINOGLICOSIDO   \n",
              "2                 SI          FLUOROQUINOLONA_AMINOGLICOSIDO   \n",
              "3                 SI          FLUOROQUINOLONA_AMINOGLICOSIDO   \n",
              "4                 SI          FLUOROQUINOLONA_AMINOGLICOSIDO   \n",
              "\n",
              "   NUMERO DE MUESTRAS TOMADAS CUP ENF. CRONICA PULMONAR OBSTRUCTIVA BIOPSIA  \\\n",
              "0                        12.0  NO                                NO     NEG   \n",
              "1                        12.0  NO                                NO     NEG   \n",
              "2                        24.0  NO                                NO     NEG   \n",
              "3                        12.0  NO                                NO     NEG   \n",
              "4                        24.0  NO                                NO     NEG   \n",
              "\n",
              "  NUMERO DE DIAS POST BIOPSIA EN QUE SE PRESENTA LA COMPLICACIÓN INFECCIOSA  \\\n",
              "0                                                  1                          \n",
              "1                                                  1                          \n",
              "2                                                  1                          \n",
              "3                                                  1                          \n",
              "4                                                  1                          \n",
              "\n",
              "  FIEBRE ITU TIPO DE CULTIVO AGENTE AISLADO  \\\n",
              "0     SI  NO              NO             NO   \n",
              "1     SI  NO              NO             NO   \n",
              "2     SI  NO     HEMOCULTIVO         E.COLI   \n",
              "3     SI  NO              NO             NO   \n",
              "4     SI  NO     HEMOCULTIVO         E.COLI   \n",
              "\n",
              "                  PATRON DE RESISTENCIA HOSPITALIZACION  \\\n",
              "0                                    NO              SI   \n",
              "1                                    NO              SI   \n",
              "2   AMPI R, CIPRO R, GENTA R, SULFA M R              SI   \n",
              "3                                    NO              SI   \n",
              "4                                    NO              SI   \n",
              "\n",
              "   DIAS HOSPITALIZACION MQ  DIAS HOSPITALIZACIÓN UPC  \n",
              "0                      2.0                       0.0  \n",
              "1                      5.0                       0.0  \n",
              "2                      4.0                       3.0  \n",
              "3                      5.0                       0.0  \n",
              "4                      4.0                       3.0  "
            ]
          },
          "execution_count": 25,
          "metadata": {},
          "output_type": "execute_result"
        }
      ],
      "source": [
        "df.head(5)"
      ]
    },
    {
      "cell_type": "markdown",
      "metadata": {
        "id": "Sz3zs8lMfQCr"
      },
      "source": [
        "### **Tipos de Datos**"
      ]
    },
    {
      "cell_type": "code",
      "execution_count": 26,
      "metadata": {
        "colab": {
          "base_uri": "https://localhost:8080/"
        },
        "id": "ijail53RfWZV",
        "outputId": "8305da9f-561e-4af9-c652-b598f5e3eb49"
      },
      "outputs": [
        {
          "name": "stdout",
          "output_type": "stream",
          "text": [
            "Número de columnas numéricas: 5\n",
            "Número de columnas categóricas: 15\n"
          ]
        }
      ],
      "source": [
        "numeric_data = df.select_dtypes(include=[np.number])\n",
        "categorical_data = df.select_dtypes(exclude=[np.number])\n",
        "\n",
        "print('Número de columnas numéricas:', numeric_data.shape[1])\n",
        "print('Número de columnas categóricas:', categorical_data.shape[1])"
      ]
    },
    {
      "cell_type": "markdown",
      "metadata": {
        "id": "T--VjiOSfeCT"
      },
      "source": [
        "El dataset estaba compuesto principalmente por columnas categóricas, dando un total de 15 variables categóricas y 5 numéricas."
      ]
    },
    {
      "cell_type": "markdown",
      "metadata": {
        "id": "GCzzgLLpdgk2"
      },
      "source": [
        "### **Formateo y Renombrado de Columnas**"
      ]
    },
    {
      "cell_type": "markdown",
      "metadata": {
        "id": "0Xi7ZCMZwgox"
      },
      "source": [
        "Las columnas estaban identificadas con nombres poco prácticos para el análisis, por lo que se formatearon a partir de las siguientes pautas:\n",
        "\n",
        "- Se cambiaron los espacios en blanco por guiones bajos \"_\",\n",
        "- Se cambió la codificación de los nombres para eliminar tildes o carácteres extraños.\n",
        "- Se capitalizaron los nombres.\n",
        "- Se eliminaron espacios en blancos adicionales al inicio y al final, de haberlos.\n",
        "\n",
        "Para realizar el formateo se uso la función \"format_text\" dentro de utils.py."
      ]
    },
    {
      "cell_type": "code",
      "execution_count": 27,
      "metadata": {
        "id": "K5Oa6JqWuzxT"
      },
      "outputs": [],
      "source": [
        "prev_col_names = list(df.columns)\n",
        "cols_name_dict = {}\n",
        "\n",
        "for prev_name in prev_col_names:\n",
        "  new_name = tl.format_text(prev_name)\n",
        "  cols_name_dict[prev_name] = new_name\n",
        "\n",
        "df = df.rename(columns = cols_name_dict)"
      ]
    },
    {
      "cell_type": "markdown",
      "metadata": {
        "id": "dz6j2Pgww8yd"
      },
      "source": [
        "En algunos casos, también se renombraron aquellas columnas con nombres muy largos o mal escritos."
      ]
    },
    {
      "cell_type": "code",
      "execution_count": 28,
      "metadata": {
        "id": "vh4iRjk4xMfp"
      },
      "outputs": [],
      "source": [
        "cols_to_rename = {\n",
        "  'Antibiotico_utiliazado_en_la_profilaxis' : 'Antibiotico_en_profilaxis',\n",
        "  'Numero_de_muestras_tomadas':'N_Muestras',\n",
        "  'Enf._cronica_pulmonar_obstructiva' : 'EPOC' ,\n",
        "  'Numero_de_dias_post_biopsia_en_que_se_presenta_la_complicacion_infecciosa': 'N_dias_hasta_comp_infecciosa'\n",
        "}\n",
        "df = df.rename(columns = cols_to_rename)"
      ]
    },
    {
      "cell_type": "markdown",
      "metadata": {
        "id": "pg4iObhR0A4n"
      },
      "source": [
        "### **Datos Faltantes**"
      ]
    },
    {
      "cell_type": "markdown",
      "metadata": {
        "id": "Ts7Ts25WfyOV"
      },
      "source": [
        "El dataset mostró datos faltantes en todas sus columnas."
      ]
    },
    {
      "cell_type": "code",
      "execution_count": 29,
      "metadata": {
        "colab": {
          "base_uri": "https://localhost:8080/"
        },
        "id": "1l26W3wOgQQE",
        "outputId": "170670a7-62ee-4cc3-f335-a0aae66a8b90"
      },
      "outputs": [
        {
          "data": {
            "text/plain": [
              "Edad                             2\n",
              "Diabetes                         2\n",
              "Hospitalizacion_ultimo_mes       2\n",
              "Psa                              6\n",
              "Biopsias_previas                 4\n",
              "Volumen_prostatico               3\n",
              "Antibiotico_en_profilaxis        2\n",
              "N_Muestras                       2\n",
              "Cup                              3\n",
              "EPOC                             4\n",
              "Biopsia                          2\n",
              "N_dias_hasta_comp_infecciosa     2\n",
              "Fiebre                           2\n",
              "Itu                              2\n",
              "Tipo_de_cultivo                  2\n",
              "Agente_aislado                  19\n",
              "Patron_de_resistencia            2\n",
              "Hospitalizacion                  5\n",
              "Dias_hospitalizacion_mq          2\n",
              "Dias_hospitalizacion_upc         2\n",
              "dtype: int64"
            ]
          },
          "execution_count": 29,
          "metadata": {},
          "output_type": "execute_result"
        }
      ],
      "source": [
        "df.isna().sum()"
      ]
    },
    {
      "cell_type": "markdown",
      "metadata": {
        "id": "0vHKEHtGggzP"
      },
      "source": [
        "Para tener un contexto más claro de como se distribuyen los valores nulos, la siguiente tabla los agrupa de acuerdo al índice del registro."
      ]
    },
    {
      "cell_type": "code",
      "execution_count": 30,
      "metadata": {
        "colab": {
          "base_uri": "https://localhost:8080/"
        },
        "id": "suOZdnO_0BTy",
        "outputId": "414c7371-195b-4dc7-ad61-08602db570af"
      },
      "outputs": [
        {
          "data": {
            "text/plain": [
              "9                                                  [Psa]\n",
              "26                                      [Agente_aislado]\n",
              "31                                     [Hospitalizacion]\n",
              "76                                                 [Psa]\n",
              "92                                    [Biopsias_previas]\n",
              "99                                      [Agente_aislado]\n",
              "100                                    [Hospitalizacion]\n",
              "103                                                [Psa]\n",
              "106                                     [Agente_aislado]\n",
              "109                                    [Hospitalizacion]\n",
              "115                                     [Agente_aislado]\n",
              "116                                     [Agente_aislado]\n",
              "121                                                [Psa]\n",
              "126                                     [Agente_aislado]\n",
              "128                                     [Agente_aislado]\n",
              "129                                     [Agente_aislado]\n",
              "130                                     [Agente_aislado]\n",
              "138                                     [Agente_aislado]\n",
              "139                                     [Agente_aislado]\n",
              "146                                     [Agente_aislado]\n",
              "151                                     [Agente_aislado]\n",
              "156                                     [Agente_aislado]\n",
              "167                                     [Agente_aislado]\n",
              "170                                     [Agente_aislado]\n",
              "565          [Biopsias_previas, Volumen_prostatico, Cup]\n",
              "566                               [EPOC, Agente_aislado]\n",
              "567                                               [EPOC]\n",
              "568    [Edad, Diabetes, Hospitalizacion_ultimo_mes, P...\n",
              "569    [Edad, Diabetes, Hospitalizacion_ultimo_mes, P...\n",
              "dtype: object"
            ]
          },
          "execution_count": 30,
          "metadata": {},
          "output_type": "execute_result"
        }
      ],
      "source": [
        "pd.Series(tl.get_null_dict(df))"
      ]
    },
    {
      "cell_type": "markdown",
      "metadata": {
        "id": "AdP78d9k2uJJ"
      },
      "source": [
        "En los registros \"568\" y \"569\", todos los valores eran nulos, por lo que se eliminaron del dataset."
      ]
    },
    {
      "cell_type": "code",
      "execution_count": 31,
      "metadata": {
        "id": "2bn7ckiI2s07"
      },
      "outputs": [],
      "source": [
        "rows_to_drop = [568, 569]\n",
        "tl.df_drop(df, rows_to_drop)"
      ]
    },
    {
      "cell_type": "markdown",
      "metadata": {
        "id": "fXWI-i37akj-"
      },
      "source": [
        "Por otro lado, se pudo ver que el resto de los valores nulos se distribuyeron de la siguiente manera: un valor nulo por registro. Esto es contraproducente, puesto que por cada registro, se podría perder información relavante en caso de eliminarse.\n",
        "\n",
        "Sin embargo, como el dataset es un informe médico en el que la mayoría de valores nulos corresponden a variables categóricas, resultó díficil imputar los datos apropiadamente. Por lo tanto, para corregir esto, se evaluó el balance de la variable objetivo."
      ]
    },
    {
      "cell_type": "code",
      "execution_count": 32,
      "metadata": {
        "colab": {
          "base_uri": "https://localhost:8080/",
          "height": 468
        },
        "id": "dIQCZSytbKes",
        "outputId": "0a76e770-05ef-4143-d6ad-05fb0ab4f082"
      },
      "outputs": [
        {
          "data": {
            "image/png": "[encoded data removed]",
            "text/plain": [
              "<Figure size 1000x500 with 2 Axes>"
            ]
          },
          "metadata": {},
          "output_type": "display_data"
        }
      ],
      "source": [
        "data_plot = tl.get_grouped_values(df, 'Hospitalizacion')\n",
        "data_plot_null = tl.get_grouped_values(df.iloc[list(tl.get_null_dict(df)), :], 'Hospitalizacion')\n",
        "fig, ax = plt.subplots(1, 2,  figsize=(10, 5))\n",
        "\n",
        "ax[0].set_title('Hopitalización')\n",
        "sns.barplot(ax=ax[0], data=data_plot, x='Hospitalizacion', y='count')\n",
        "ax[0].set(ylabel='Cantidad de Pacientes', xlabel='')\n",
        "\n",
        "ax[1].set_title('Hopitalización')\n",
        "sns.barplot(ax=ax[1],  data=data_plot_null, x='Hospitalizacion', y='count')\n",
        "ax[1].set(ylabel='Cantidad de Pacientes', xlabel='')\n",
        "\n",
        "plt.show()"
      ]
    },
    {
      "cell_type": "markdown",
      "metadata": {
        "id": "cuPL0S9QbfQY"
      },
      "source": [
        "Se pudo apreciar en las distribuciones anteriores, que el dataset está desbalaceado para la variable objetivo, y que casi todos los registros corresponden a pacientes no hospitalizados.\n",
        "\n",
        "Por suerte, la proporción es la misma para ambas gráficas, indicando que la mayoría de registros con valores nulos son para pacientes no hospitalizados, por lo que eliminar estos registros no significará una pérdida de la categoría minoritaria."
      ]
    },
    {
      "cell_type": "code",
      "execution_count": 33,
      "metadata": {
        "id": "d_CgRgtEakJD"
      },
      "outputs": [],
      "source": [
        "tl.df_drop(df, list(tl.get_null_dict(df)))"
      ]
    },
    {
      "cell_type": "markdown",
      "metadata": {
        "id": "eu515O3KnGzD"
      },
      "source": [
        "Tras esto, se evaluó nuevamente el número de registros vacíos y los cambios se efectuaron correctamente."
      ]
    },
    {
      "cell_type": "code",
      "execution_count": 34,
      "metadata": {
        "colab": {
          "base_uri": "https://localhost:8080/"
        },
        "id": "QZIRl6yVnVI7",
        "outputId": "28992c67-9ce0-4948-ce32-b8af04b75703"
      },
      "outputs": [
        {
          "data": {
            "text/plain": [
              "Edad                            0\n",
              "Diabetes                        0\n",
              "Hospitalizacion_ultimo_mes      0\n",
              "Psa                             0\n",
              "Biopsias_previas                0\n",
              "Volumen_prostatico              0\n",
              "Antibiotico_en_profilaxis       0\n",
              "N_Muestras                      0\n",
              "Cup                             0\n",
              "EPOC                            0\n",
              "Biopsia                         0\n",
              "N_dias_hasta_comp_infecciosa    0\n",
              "Fiebre                          0\n",
              "Itu                             0\n",
              "Tipo_de_cultivo                 0\n",
              "Agente_aislado                  0\n",
              "Patron_de_resistencia           0\n",
              "Hospitalizacion                 0\n",
              "Dias_hospitalizacion_mq         0\n",
              "Dias_hospitalizacion_upc        0\n",
              "dtype: int64"
            ]
          },
          "execution_count": 34,
          "metadata": {},
          "output_type": "execute_result"
        }
      ],
      "source": [
        "df.isna().sum()"
      ]
    },
    {
      "cell_type": "markdown",
      "metadata": {
        "id": "JJWLVM2qrI6-"
      },
      "source": [
        "## **Análisis: Variables Numéricas**"
      ]
    },
    {
      "cell_type": "markdown",
      "metadata": {
        "id": "YDvNgjY-rT1f"
      },
      "source": [
        "EL dataset posee cinco variables numéricas:  Edad, Psa, N_Muestras, Dias_hospitalizacion_mq y Dias_hospitalizacion_upc."
      ]
    },
    {
      "cell_type": "code",
      "execution_count": 35,
      "metadata": {
        "colab": {
          "base_uri": "https://localhost:8080/",
          "height": 206
        },
        "id": "BaBRH8NWr-ot",
        "outputId": "2fc1ef0d-7877-4b47-cc53-a17912efd209"
      },
      "outputs": [
        {
          "data": {
            "text/html": [
              "<div>\n",
              "<style scoped>\n",
              "    .dataframe tbody tr th:only-of-type {\n",
              "        vertical-align: middle;\n",
              "    }\n",
              "\n",
              "    .dataframe tbody tr th {\n",
              "        vertical-align: top;\n",
              "    }\n",
              "\n",
              "    .dataframe thead th {\n",
              "        text-align: right;\n",
              "    }\n",
              "</style>\n",
              "<table border=\"1\" class=\"dataframe\">\n",
              "  <thead>\n",
              "    <tr style=\"text-align: right;\">\n",
              "      <th></th>\n",
              "      <th>Edad</th>\n",
              "      <th>Psa</th>\n",
              "      <th>N_Muestras</th>\n",
              "      <th>Dias_hospitalizacion_mq</th>\n",
              "      <th>Dias_hospitalizacion_upc</th>\n",
              "    </tr>\n",
              "  </thead>\n",
              "  <tbody>\n",
              "    <tr>\n",
              "      <th>0</th>\n",
              "      <td>53.0</td>\n",
              "      <td>4.0</td>\n",
              "      <td>12.0</td>\n",
              "      <td>2.0</td>\n",
              "      <td>0.0</td>\n",
              "    </tr>\n",
              "    <tr>\n",
              "      <th>1</th>\n",
              "      <td>56.0</td>\n",
              "      <td>7.7</td>\n",
              "      <td>12.0</td>\n",
              "      <td>5.0</td>\n",
              "      <td>0.0</td>\n",
              "    </tr>\n",
              "    <tr>\n",
              "      <th>2</th>\n",
              "      <td>57.0</td>\n",
              "      <td>29.0</td>\n",
              "      <td>24.0</td>\n",
              "      <td>4.0</td>\n",
              "      <td>3.0</td>\n",
              "    </tr>\n",
              "    <tr>\n",
              "      <th>3</th>\n",
              "      <td>56.0</td>\n",
              "      <td>7.0</td>\n",
              "      <td>12.0</td>\n",
              "      <td>5.0</td>\n",
              "      <td>0.0</td>\n",
              "    </tr>\n",
              "    <tr>\n",
              "      <th>4</th>\n",
              "      <td>55.0</td>\n",
              "      <td>29.0</td>\n",
              "      <td>24.0</td>\n",
              "      <td>4.0</td>\n",
              "      <td>3.0</td>\n",
              "    </tr>\n",
              "  </tbody>\n",
              "</table>\n",
              "</div>"
            ],
            "text/plain": [
              "   Edad   Psa  N_Muestras  Dias_hospitalizacion_mq  Dias_hospitalizacion_upc\n",
              "0  53.0   4.0        12.0                      2.0                       0.0\n",
              "1  56.0   7.7        12.0                      5.0                       0.0\n",
              "2  57.0  29.0        24.0                      4.0                       3.0\n",
              "3  56.0   7.0        12.0                      5.0                       0.0\n",
              "4  55.0  29.0        24.0                      4.0                       3.0"
            ]
          },
          "execution_count": 35,
          "metadata": {},
          "output_type": "execute_result"
        }
      ],
      "source": [
        "df_numeric = df.select_dtypes(include=[np.number])\n",
        "df_numeric.head(5)"
      ]
    },
    {
      "cell_type": "code",
      "execution_count": 36,
      "metadata": {
        "colab": {
          "base_uri": "https://localhost:8080/",
          "height": 300
        },
        "id": "S8y9maE3sL_g",
        "outputId": "dc48ee91-c380-46de-b142-aef47d6a8e24"
      },
      "outputs": [
        {
          "data": {
            "text/html": [
              "<div>\n",
              "<style scoped>\n",
              "    .dataframe tbody tr th:only-of-type {\n",
              "        vertical-align: middle;\n",
              "    }\n",
              "\n",
              "    .dataframe tbody tr th {\n",
              "        vertical-align: top;\n",
              "    }\n",
              "\n",
              "    .dataframe thead th {\n",
              "        text-align: right;\n",
              "    }\n",
              "</style>\n",
              "<table border=\"1\" class=\"dataframe\">\n",
              "  <thead>\n",
              "    <tr style=\"text-align: right;\">\n",
              "      <th></th>\n",
              "      <th>Edad</th>\n",
              "      <th>Psa</th>\n",
              "      <th>N_Muestras</th>\n",
              "      <th>Dias_hospitalizacion_mq</th>\n",
              "      <th>Dias_hospitalizacion_upc</th>\n",
              "    </tr>\n",
              "  </thead>\n",
              "  <tbody>\n",
              "    <tr>\n",
              "      <th>count</th>\n",
              "      <td>541.000000</td>\n",
              "      <td>541.000000</td>\n",
              "      <td>541.000000</td>\n",
              "      <td>541.000000</td>\n",
              "      <td>541.000000</td>\n",
              "    </tr>\n",
              "    <tr>\n",
              "      <th>mean</th>\n",
              "      <td>63.879852</td>\n",
              "      <td>13.391257</td>\n",
              "      <td>12.987061</td>\n",
              "      <td>0.168207</td>\n",
              "      <td>0.014787</td>\n",
              "    </tr>\n",
              "    <tr>\n",
              "      <th>std</th>\n",
              "      <td>9.389434</td>\n",
              "      <td>15.946475</td>\n",
              "      <td>3.942858</td>\n",
              "      <td>0.973437</td>\n",
              "      <td>0.201300</td>\n",
              "    </tr>\n",
              "    <tr>\n",
              "      <th>min</th>\n",
              "      <td>39.000000</td>\n",
              "      <td>0.600000</td>\n",
              "      <td>4.000000</td>\n",
              "      <td>0.000000</td>\n",
              "      <td>0.000000</td>\n",
              "    </tr>\n",
              "    <tr>\n",
              "      <th>25%</th>\n",
              "      <td>59.000000</td>\n",
              "      <td>5.600000</td>\n",
              "      <td>12.000000</td>\n",
              "      <td>0.000000</td>\n",
              "      <td>0.000000</td>\n",
              "    </tr>\n",
              "    <tr>\n",
              "      <th>50%</th>\n",
              "      <td>64.000000</td>\n",
              "      <td>8.000000</td>\n",
              "      <td>12.000000</td>\n",
              "      <td>0.000000</td>\n",
              "      <td>0.000000</td>\n",
              "    </tr>\n",
              "    <tr>\n",
              "      <th>75%</th>\n",
              "      <td>69.000000</td>\n",
              "      <td>15.000000</td>\n",
              "      <td>12.000000</td>\n",
              "      <td>0.000000</td>\n",
              "      <td>0.000000</td>\n",
              "    </tr>\n",
              "    <tr>\n",
              "      <th>max</th>\n",
              "      <td>151.000000</td>\n",
              "      <td>100.000000</td>\n",
              "      <td>24.000000</td>\n",
              "      <td>12.000000</td>\n",
              "      <td>3.000000</td>\n",
              "    </tr>\n",
              "  </tbody>\n",
              "</table>\n",
              "</div>"
            ],
            "text/plain": [
              "             Edad         Psa  N_Muestras  Dias_hospitalizacion_mq  \\\n",
              "count  541.000000  541.000000  541.000000               541.000000   \n",
              "mean    63.879852   13.391257   12.987061                 0.168207   \n",
              "std      9.389434   15.946475    3.942858                 0.973437   \n",
              "min     39.000000    0.600000    4.000000                 0.000000   \n",
              "25%     59.000000    5.600000   12.000000                 0.000000   \n",
              "50%     64.000000    8.000000   12.000000                 0.000000   \n",
              "75%     69.000000   15.000000   12.000000                 0.000000   \n",
              "max    151.000000  100.000000   24.000000                12.000000   \n",
              "\n",
              "       Dias_hospitalizacion_upc  \n",
              "count                541.000000  \n",
              "mean                   0.014787  \n",
              "std                    0.201300  \n",
              "min                    0.000000  \n",
              "25%                    0.000000  \n",
              "50%                    0.000000  \n",
              "75%                    0.000000  \n",
              "max                    3.000000  "
            ]
          },
          "execution_count": 36,
          "metadata": {},
          "output_type": "execute_result"
        }
      ],
      "source": [
        "df_numeric.describe()"
      ]
    },
    {
      "cell_type": "code",
      "execution_count": 37,
      "metadata": {
        "colab": {
          "base_uri": "https://localhost:8080/",
          "height": 718
        },
        "id": "2I2Dsf66sSha",
        "outputId": "26b492d4-a241-4080-c5bf-1af720d365b8"
      },
      "outputs": [
        {
          "data": {
            "text/plain": [
              "<Axes: xlabel='Dias_hospitalizacion_upc', ylabel='Count'>"
            ]
          },
          "execution_count": 37,
          "metadata": {},
          "output_type": "execute_result"
        },
        {
          "data": {
            "image/png": "[encoded data removed]",
            "text/plain": [
              "<Figure size 1500x500 with 3 Axes>"
            ]
          },
          "metadata": {},
          "output_type": "display_data"
        },
        {
          "data": {
            "image/png": "[encoded data removed]",
            "text/plain": [
              "<Figure size 1500x500 with 2 Axes>"
            ]
          },
          "metadata": {},
          "output_type": "display_data"
        }
      ],
      "source": [
        "fig, ax = plt.subplots(1, 3,  figsize=(15, 5))\n",
        "\n",
        "sns.histplot(ax=ax[0], data=df_numeric.Edad)\n",
        "sns.histplot(ax=ax[1], data=df_numeric.Psa)\n",
        "sns.histplot(ax=ax[2], data=df_numeric.N_Muestras)\n",
        "\n",
        "fig, ax2 = plt.subplots(1, 2,  figsize=(15, 5))\n",
        "\n",
        "sns.histplot(ax=ax2[0], data=df_numeric.Dias_hospitalizacion_mq)\n",
        "sns.histplot(ax=ax2[1], data=df_numeric.Dias_hospitalizacion_upc)"
      ]
    },
    {
      "cell_type": "markdown",
      "metadata": {
        "id": "nbnar-AOvILz"
      },
      "source": [
        "### **Edad**\n",
        "\n",
        "Se encontraron dos pacientes con edades mayores a 140 años que son claros outilers. Estos no fueron hospitalizados como se ve en la tabla de abajo."
      ]
    },
    {
      "cell_type": "code",
      "execution_count": 38,
      "metadata": {
        "colab": {
          "base_uri": "https://localhost:8080/",
          "height": 112
        },
        "id": "ZZGDCJiDstEq",
        "outputId": "ae8f5bc2-680b-49de-cc14-22dd35c5cfd0"
      },
      "outputs": [
        {
          "data": {
            "text/html": [
              "<div>\n",
              "<style scoped>\n",
              "    .dataframe tbody tr th:only-of-type {\n",
              "        vertical-align: middle;\n",
              "    }\n",
              "\n",
              "    .dataframe tbody tr th {\n",
              "        vertical-align: top;\n",
              "    }\n",
              "\n",
              "    .dataframe thead th {\n",
              "        text-align: right;\n",
              "    }\n",
              "</style>\n",
              "<table border=\"1\" class=\"dataframe\">\n",
              "  <thead>\n",
              "    <tr style=\"text-align: right;\">\n",
              "      <th></th>\n",
              "      <th>Edad</th>\n",
              "      <th>Hospitalizacion</th>\n",
              "    </tr>\n",
              "  </thead>\n",
              "  <tbody>\n",
              "    <tr>\n",
              "      <th>161</th>\n",
              "      <td>143.0</td>\n",
              "      <td>NO</td>\n",
              "    </tr>\n",
              "    <tr>\n",
              "      <th>181</th>\n",
              "      <td>151.0</td>\n",
              "      <td>NO</td>\n",
              "    </tr>\n",
              "  </tbody>\n",
              "</table>\n",
              "</div>"
            ],
            "text/plain": [
              "      Edad Hospitalizacion\n",
              "161  143.0              NO\n",
              "181  151.0              NO"
            ]
          },
          "execution_count": 38,
          "metadata": {},
          "output_type": "execute_result"
        }
      ],
      "source": [
        "df[df[\"Edad\"] > 100][['Edad', 'Hospitalizacion']]"
      ]
    },
    {
      "cell_type": "markdown",
      "metadata": {
        "id": "nTNIyNjdr2RP"
      },
      "source": [
        "Por lo tanto, se eliminaron en lugar de hacer algún cambio en la edad."
      ]
    },
    {
      "cell_type": "code",
      "execution_count": 39,
      "metadata": {
        "id": "NuU1j2bdsN0J"
      },
      "outputs": [],
      "source": [
        "rows_to_drop = [161, 181]\n",
        "tl.df_drop(df, rows_to_drop)"
      ]
    },
    {
      "cell_type": "markdown",
      "metadata": {
        "id": "j0sMBwKDvLqj"
      },
      "source": [
        "### **Psa**\n",
        "\n",
        "Como en la distribución se puede apreciar valores muy alejados de donde se distrubuyen la mayoría de valores, para este campo se decidió hacer una investigacion previa de los datos de la columna.\n",
        "\n",
        "De acuerdo al Instituto Nacional del Cáncer\n",
        "de los Institutos Nacionales de la Salud, \"El antígeno prostático específico o PSA es una proteína que producen tanto las células normales como las células malignas (cancerosas) de la próstata. La prueba del PSA se usa para medir la concentración del PSA en la sangre. Los resultados en general se indican en nanogramos de PSA por mililitro de sangre (ng/ml).\n",
        "\n",
        "Por otro lado, se pueden tomar en cosideración los siguientes rangos de valores para saber la gravedad del nivel de PSA:\n",
        "\n",
        "- **Valor menor a 2,5 ng/ml**: PSA normal en pacientes menores de 50 años.\n",
        "\n",
        "- **PSA normal, menor de 4 ng/ml**: Es el valor de referencia utilizado como «estándar» en la mayoría de centros. Este nivel de PSA es de bajo riesgo, es decir, la presencia de cáncer es poco probable.\n",
        "\n",
        "- **Valor límite, de 4 a 10 ng/ml**: Se trata de un valor límite que debe interpretarse según el contexto clínico. Estos pacientes tienen entre 30% a 50% mayor probabilidad de tener cancer.\n",
        "\n",
        "Con esta informacion presente, se procedió a calcular posibles outlier a partir del rango intercuartil de la variable."
      ]
    },
    {
      "cell_type": "code",
      "execution_count": 46,
      "metadata": {
        "colab": {
          "base_uri": "https://localhost:8080/",
          "height": 462
        },
        "id": "q6DP-4Wpvuxj",
        "outputId": "cd365ed5-be3c-4cef-b9ba-86ab2975d4bf"
      },
      "outputs": [
        {
          "name": "stdout",
          "output_type": "stream",
          "text": [
            "Numero de outliers:  20 \n",
            "\n"
          ]
        },
        {
          "data": {
            "image/png": "[encoded data removed]",
            "text/plain": [
              "<Figure size 1500x500 with 1 Axes>"
            ]
          },
          "metadata": {},
          "output_type": "display_data"
        }
      ],
      "source": [
        "from scipy import stats\n",
        "\n",
        "def get_outliers(df, column):\n",
        "  data = df[column]\n",
        "\n",
        "  q1, q3 = np.percentile(data, [25, 75])\n",
        "  iqr = q3 - q1\n",
        "  lower_bound = q1 - 1.5*iqr\n",
        "  upper_bound = q3 + 1.5*iqr\n",
        "\n",
        "  outliers = [(data < int(lower_bound)) | (data > int(upper_bound))]\n",
        "  z_scores = np.abs(stats.zscore(data))\n",
        "  threshold = 1.96\n",
        "  outliers = data[z_scores > threshold]\n",
        "\n",
        "  return outliers\n",
        "\n",
        "outliers = get_outliers(df, 'Psa')\n",
        "print(\"Numero de outliers: \", outliers.count(), '\\n')\n",
        "\n",
        "plt.figure(figsize=(15,5))\n",
        "sns.boxplot(x=df[\"Psa\"])\n",
        "plt.show()"
      ]
    },
    {
      "cell_type": "markdown",
      "metadata": {
        "id": "M_N_rUUbvuZs"
      },
      "source": [
        "De acuerdo al gráfico, pacientes con valores mayores a 29  podrían ser Outliers. Y tras hacer una investigacion sobre estos valores, se encontró que si son posibles niveles de PSA mayores a este límite, incluso llegando a caber la posibilidad de valores cercanos a 100 en pacientes muy específicos, en donde ya se ha detectado la presencia de Cáncer de Próstata.\n",
        "\n",
        "En este sentido, se verificó la prueba de Biopsia para los pacientes considerados outliers con valores del PSA mayores a 60. Se consideraron solo estos, por que de acuerdo al gráfico, hay una brecha muy grande entre los valores menores y mayores a 60."
      ]
    },
    {
      "cell_type": "code",
      "execution_count": 47,
      "metadata": {
        "colab": {
          "base_uri": "https://localhost:8080/",
          "height": 551
        },
        "id": "qvL4cI3LwnB1",
        "outputId": "eb00b3e1-0ed2-4fe0-878e-73bf039d7d79"
      },
      "outputs": [
        {
          "data": {
            "text/html": [
              "<div>\n",
              "<style scoped>\n",
              "    .dataframe tbody tr th:only-of-type {\n",
              "        vertical-align: middle;\n",
              "    }\n",
              "\n",
              "    .dataframe tbody tr th {\n",
              "        vertical-align: top;\n",
              "    }\n",
              "\n",
              "    .dataframe thead th {\n",
              "        text-align: right;\n",
              "    }\n",
              "</style>\n",
              "<table border=\"1\" class=\"dataframe\">\n",
              "  <thead>\n",
              "    <tr style=\"text-align: right;\">\n",
              "      <th></th>\n",
              "      <th>Psa</th>\n",
              "      <th>Biopsia</th>\n",
              "      <th>Hospitalizacion</th>\n",
              "    </tr>\n",
              "  </thead>\n",
              "  <tbody>\n",
              "    <tr>\n",
              "      <th>27</th>\n",
              "      <td>91.8</td>\n",
              "      <td>ADENOCARCINOMA GLEASON 10</td>\n",
              "      <td>NO</td>\n",
              "    </tr>\n",
              "    <tr>\n",
              "      <th>29</th>\n",
              "      <td>98.0</td>\n",
              "      <td>ADENOCARCINOMA GLEASON 10</td>\n",
              "      <td>NO</td>\n",
              "    </tr>\n",
              "    <tr>\n",
              "      <th>34</th>\n",
              "      <td>90.0</td>\n",
              "      <td>ADENOCARCINOMA GLEASON 9</td>\n",
              "      <td>NO</td>\n",
              "    </tr>\n",
              "    <tr>\n",
              "      <th>40</th>\n",
              "      <td>100.0</td>\n",
              "      <td>ADENOCARCINOMA GLEASON 9</td>\n",
              "      <td>NO</td>\n",
              "    </tr>\n",
              "    <tr>\n",
              "      <th>77</th>\n",
              "      <td>98.0</td>\n",
              "      <td>ADENOCARCINOMA GLEASON 9</td>\n",
              "      <td>NO</td>\n",
              "    </tr>\n",
              "    <tr>\n",
              "      <th>111</th>\n",
              "      <td>98.0</td>\n",
              "      <td>ADENOCARCINOMA GLEASON 8</td>\n",
              "      <td>NO</td>\n",
              "    </tr>\n",
              "    <tr>\n",
              "      <th>114</th>\n",
              "      <td>100.0</td>\n",
              "      <td>ADENOCARCINOMA GLEASON 8</td>\n",
              "      <td>NO</td>\n",
              "    </tr>\n",
              "    <tr>\n",
              "      <th>175</th>\n",
              "      <td>83.0</td>\n",
              "      <td>ADENOCARCINOMA GLEASON 6</td>\n",
              "      <td>NO</td>\n",
              "    </tr>\n",
              "    <tr>\n",
              "      <th>274</th>\n",
              "      <td>76.0</td>\n",
              "      <td>ADENOCARCINOMA GLEASON 8</td>\n",
              "      <td>NO</td>\n",
              "    </tr>\n",
              "    <tr>\n",
              "      <th>304</th>\n",
              "      <td>70.0</td>\n",
              "      <td>ADENOCARCINOMA GLEASON 8</td>\n",
              "      <td>NO</td>\n",
              "    </tr>\n",
              "    <tr>\n",
              "      <th>331</th>\n",
              "      <td>100.0</td>\n",
              "      <td>ADENOCARCINOMA GLEASON 9</td>\n",
              "      <td>NO</td>\n",
              "    </tr>\n",
              "    <tr>\n",
              "      <th>366</th>\n",
              "      <td>100.0</td>\n",
              "      <td>ADENOCARCINOMA GLEASON 8</td>\n",
              "      <td>NO</td>\n",
              "    </tr>\n",
              "    <tr>\n",
              "      <th>369</th>\n",
              "      <td>98.0</td>\n",
              "      <td>ADENOCARCINOMA GLEASON 8</td>\n",
              "      <td>NO</td>\n",
              "    </tr>\n",
              "    <tr>\n",
              "      <th>432</th>\n",
              "      <td>98.0</td>\n",
              "      <td>ADENOCARCINOMA GLEASON 6</td>\n",
              "      <td>NO</td>\n",
              "    </tr>\n",
              "    <tr>\n",
              "      <th>531</th>\n",
              "      <td>78.0</td>\n",
              "      <td>ADENOCARCINOMA GLEASON 8</td>\n",
              "      <td>NO</td>\n",
              "    </tr>\n",
              "    <tr>\n",
              "      <th>561</th>\n",
              "      <td>75.0</td>\n",
              "      <td>ADENOCARCINOMA GLEASON 8</td>\n",
              "      <td>NO</td>\n",
              "    </tr>\n",
              "  </tbody>\n",
              "</table>\n",
              "</div>"
            ],
            "text/plain": [
              "       Psa                     Biopsia Hospitalizacion\n",
              "27    91.8  ADENOCARCINOMA GLEASON 10               NO\n",
              "29    98.0  ADENOCARCINOMA GLEASON 10               NO\n",
              "34    90.0   ADENOCARCINOMA GLEASON 9               NO\n",
              "40   100.0   ADENOCARCINOMA GLEASON 9               NO\n",
              "77    98.0   ADENOCARCINOMA GLEASON 9               NO\n",
              "111   98.0   ADENOCARCINOMA GLEASON 8               NO\n",
              "114  100.0   ADENOCARCINOMA GLEASON 8               NO\n",
              "175   83.0    ADENOCARCINOMA GLEASON 6              NO\n",
              "274   76.0   ADENOCARCINOMA GLEASON 8               NO\n",
              "304   70.0   ADENOCARCINOMA GLEASON 8               NO\n",
              "331  100.0   ADENOCARCINOMA GLEASON 9               NO\n",
              "366  100.0   ADENOCARCINOMA GLEASON 8               NO\n",
              "369   98.0   ADENOCARCINOMA GLEASON 8               NO\n",
              "432   98.0    ADENOCARCINOMA GLEASON 6              NO\n",
              "531   78.0   ADENOCARCINOMA GLEASON 8               NO\n",
              "561   75.0   ADENOCARCINOMA GLEASON 8               NO"
            ]
          },
          "execution_count": 47,
          "metadata": {},
          "output_type": "execute_result"
        }
      ],
      "source": [
        "df[df[\"Psa\"] > 60][['Psa', \"Biopsia\", 'Hospitalizacion']]"
      ]
    },
    {
      "cell_type": "markdown",
      "metadata": {
        "id": "R-mZqIdwxS_g"
      },
      "source": [
        "La tabla muestra como los pacientes con un PSA mayor a 60 resultaron con ADENOCARCINOMA GLEASON 8\t- 10 al hacer la Biopsia, lo que implica la más agresiva y potencialmente letal forma de cáncer de próstata. Esto puede explicar el porqué de los resultados tan altos de PSA. Únicamente los pacientes 432 y 175 tuvieron ADENOCARCINOMA GLEASON 6, lo que no corresponde a sus valores de PSA tan Altos. Este tipo refleja células normales, que no se consideran especialmente agresivas.\n",
        "\n",
        "Al final se eliminaron únicamente los registros 432 y 175 del dataset por lo antes descrito. "
      ]
    },
    {
      "cell_type": "code",
      "execution_count": null,
      "metadata": {
        "id": "oEcUGadI5Rom"
      },
      "outputs": [],
      "source": [
        "row_to_drop = [432, 175]\n",
        "df_drop(df, row_to_drop)"
      ]
    },
    {
      "cell_type": "markdown",
      "metadata": {
        "id": "VTcR9XlhwC4g"
      },
      "source": [
        "### **Días de Hospitalización con Médico Quirúrgico y Días de Hospitalización en Estado Crítico**\n",
        "\n",
        "Las columnas 'Dias_hospitalizacion_mq' y 'Dias_hospitalizacion_upc' fueron eliminadas del dataset, puesto que son datos que se obtienen a partir de eventos posteriores al comienzo de la hospitalización del paciente."
      ]
    },
    {
      "cell_type": "code",
      "execution_count": 48,
      "metadata": {
        "id": "Rvy4kLKwwrhk"
      },
      "outputs": [],
      "source": [
        "tl.df_drop(df,['Dias_hospitalizacion_mq', 'Dias_hospitalizacion_upc'], axis=1)"
      ]
    },
    {
      "cell_type": "markdown",
      "metadata": {
        "id": "WKrL4Uzc3NEq"
      },
      "source": [
        "## **Análisis: Variables Categóricas**"
      ]
    },
    {
      "cell_type": "markdown",
      "metadata": {
        "id": "6L0rkVVlCC1j"
      },
      "source": [
        "Para realizar el análisis, primero se formatearon todas las valores categóricas como se hizo con el nombre de las columnas, para posteriormente revisar cada variable categórica y hacer los cambios necesarios."
      ]
    },
    {
      "cell_type": "code",
      "execution_count": 50,
      "metadata": {
        "id": "NR6da3CKDKr4"
      },
      "outputs": [],
      "source": [
        "categorical_cols = list(df.select_dtypes(exclude=[np.number]).columns)\n",
        "\n",
        "for col_name in categorical_cols:\n",
        "  df[col_name] = df[col_name].map(lambda x: tl.format_text(x))"
      ]
    },
    {
      "cell_type": "markdown",
      "metadata": {
        "id": "GoAlQaa--KDr"
      },
      "source": [
        "### **Antibiótico en Profilaxis**"
      ]
    },
    {
      "cell_type": "code",
      "execution_count": 51,
      "metadata": {
        "colab": {
          "base_uri": "https://localhost:8080/",
          "height": 175
        },
        "id": "EEUN45Nf3oaH",
        "outputId": "5cfea570-f9b4-4c5c-8c84-b892bbf5ea90"
      },
      "outputs": [
        {
          "data": {
            "text/html": [
              "<div>\n",
              "<style scoped>\n",
              "    .dataframe tbody tr th:only-of-type {\n",
              "        vertical-align: middle;\n",
              "    }\n",
              "\n",
              "    .dataframe tbody tr th {\n",
              "        vertical-align: top;\n",
              "    }\n",
              "\n",
              "    .dataframe thead th {\n",
              "        text-align: right;\n",
              "    }\n",
              "</style>\n",
              "<table border=\"1\" class=\"dataframe\">\n",
              "  <thead>\n",
              "    <tr style=\"text-align: right;\">\n",
              "      <th></th>\n",
              "      <th>Antibiotico_en_profilaxis</th>\n",
              "      <th>count</th>\n",
              "    </tr>\n",
              "  </thead>\n",
              "  <tbody>\n",
              "    <tr>\n",
              "      <th>0</th>\n",
              "      <td>Cefalosporina_aminoglucocido</td>\n",
              "      <td>55</td>\n",
              "    </tr>\n",
              "    <tr>\n",
              "      <th>1</th>\n",
              "      <td>Fluoroquinolona_aminoglicosido</td>\n",
              "      <td>427</td>\n",
              "    </tr>\n",
              "    <tr>\n",
              "      <th>2</th>\n",
              "      <td>Oroquinolonas</td>\n",
              "      <td>17</td>\n",
              "    </tr>\n",
              "    <tr>\n",
              "      <th>3</th>\n",
              "      <td>Otros</td>\n",
              "      <td>40</td>\n",
              "    </tr>\n",
              "  </tbody>\n",
              "</table>\n",
              "</div>"
            ],
            "text/plain": [
              "        Antibiotico_en_profilaxis  count\n",
              "0    Cefalosporina_aminoglucocido     55\n",
              "1  Fluoroquinolona_aminoglicosido    427\n",
              "2                   Oroquinolonas     17\n",
              "3                           Otros     40"
            ]
          },
          "execution_count": 51,
          "metadata": {},
          "output_type": "execute_result"
        }
      ],
      "source": [
        "tl.get_grouped_values(df, 'Antibiotico_en_profilaxis')"
      ]
    },
    {
      "cell_type": "markdown",
      "metadata": {
        "id": "eqtgBB5_-8rC"
      },
      "source": [
        "### **Tipo de Cultivo**"
      ]
    },
    {
      "cell_type": "code",
      "execution_count": 52,
      "metadata": {
        "colab": {
          "base_uri": "https://localhost:8080/",
          "height": 175
        },
        "id": "Jms8a4kD_RYa",
        "outputId": "dc4a1662-dd52-4115-f8d9-2d2375c454cc"
      },
      "outputs": [
        {
          "data": {
            "text/html": [
              "<div>\n",
              "<style scoped>\n",
              "    .dataframe tbody tr th:only-of-type {\n",
              "        vertical-align: middle;\n",
              "    }\n",
              "\n",
              "    .dataframe tbody tr th {\n",
              "        vertical-align: top;\n",
              "    }\n",
              "\n",
              "    .dataframe thead th {\n",
              "        text-align: right;\n",
              "    }\n",
              "</style>\n",
              "<table border=\"1\" class=\"dataframe\">\n",
              "  <thead>\n",
              "    <tr style=\"text-align: right;\">\n",
              "      <th></th>\n",
              "      <th>Tipo_de_cultivo</th>\n",
              "      <th>count</th>\n",
              "    </tr>\n",
              "  </thead>\n",
              "  <tbody>\n",
              "    <tr>\n",
              "      <th>0</th>\n",
              "      <td>Hemocultivo</td>\n",
              "      <td>2</td>\n",
              "    </tr>\n",
              "    <tr>\n",
              "      <th>1</th>\n",
              "      <td>Hemocultivo_y_urocultivo</td>\n",
              "      <td>2</td>\n",
              "    </tr>\n",
              "    <tr>\n",
              "      <th>2</th>\n",
              "      <td>No</td>\n",
              "      <td>531</td>\n",
              "    </tr>\n",
              "    <tr>\n",
              "      <th>3</th>\n",
              "      <td>Urocultivo</td>\n",
              "      <td>4</td>\n",
              "    </tr>\n",
              "  </tbody>\n",
              "</table>\n",
              "</div>"
            ],
            "text/plain": [
              "            Tipo_de_cultivo  count\n",
              "0               Hemocultivo      2\n",
              "1  Hemocultivo_y_urocultivo      2\n",
              "2                        No    531\n",
              "3                Urocultivo      4"
            ]
          },
          "execution_count": 52,
          "metadata": {},
          "output_type": "execute_result"
        }
      ],
      "source": [
        "tl.get_grouped_values(df, 'Tipo_de_cultivo')"
      ]
    },
    {
      "cell_type": "markdown",
      "metadata": {
        "id": "eQO90u7D_AI-"
      },
      "source": [
        "### **Biopsia**"
      ]
    },
    {
      "cell_type": "code",
      "execution_count": 53,
      "metadata": {
        "colab": {
          "base_uri": "https://localhost:8080/",
          "height": 332
        },
        "id": "aMCH3UGLAhw-",
        "outputId": "5a468f38-9f45-4b71-c9a0-a63985aea446"
      },
      "outputs": [
        {
          "data": {
            "text/html": [
              "<div>\n",
              "<style scoped>\n",
              "    .dataframe tbody tr th:only-of-type {\n",
              "        vertical-align: middle;\n",
              "    }\n",
              "\n",
              "    .dataframe tbody tr th {\n",
              "        vertical-align: top;\n",
              "    }\n",
              "\n",
              "    .dataframe thead th {\n",
              "        text-align: right;\n",
              "    }\n",
              "</style>\n",
              "<table border=\"1\" class=\"dataframe\">\n",
              "  <thead>\n",
              "    <tr style=\"text-align: right;\">\n",
              "      <th></th>\n",
              "      <th>Biopsia</th>\n",
              "      <th>count</th>\n",
              "    </tr>\n",
              "  </thead>\n",
              "  <tbody>\n",
              "    <tr>\n",
              "      <th>0</th>\n",
              "      <td>Adenocarcinoma_gleason_10</td>\n",
              "      <td>4</td>\n",
              "    </tr>\n",
              "    <tr>\n",
              "      <th>1</th>\n",
              "      <td>Adenocarcinoma_gleason_6</td>\n",
              "      <td>54</td>\n",
              "    </tr>\n",
              "    <tr>\n",
              "      <th>2</th>\n",
              "      <td>Adenocarcinoma_gleason_7</td>\n",
              "      <td>109</td>\n",
              "    </tr>\n",
              "    <tr>\n",
              "      <th>3</th>\n",
              "      <td>Adenocarcinoma_gleason_8</td>\n",
              "      <td>21</td>\n",
              "    </tr>\n",
              "    <tr>\n",
              "      <th>4</th>\n",
              "      <td>Adenocarcinoma_gleason_9</td>\n",
              "      <td>20</td>\n",
              "    </tr>\n",
              "    <tr>\n",
              "      <th>5</th>\n",
              "      <td>Carcinoma_indiferenciado_de_celulas_claras</td>\n",
              "      <td>2</td>\n",
              "    </tr>\n",
              "    <tr>\n",
              "      <th>6</th>\n",
              "      <td>Hiperplasia_prostatica</td>\n",
              "      <td>13</td>\n",
              "    </tr>\n",
              "    <tr>\n",
              "      <th>7</th>\n",
              "      <td>Neg</td>\n",
              "      <td>302</td>\n",
              "    </tr>\n",
              "    <tr>\n",
              "      <th>8</th>\n",
              "      <td>Prostatitis</td>\n",
              "      <td>14</td>\n",
              "    </tr>\n",
              "  </tbody>\n",
              "</table>\n",
              "</div>"
            ],
            "text/plain": [
              "                                      Biopsia  count\n",
              "0                   Adenocarcinoma_gleason_10      4\n",
              "1                    Adenocarcinoma_gleason_6     54\n",
              "2                    Adenocarcinoma_gleason_7    109\n",
              "3                    Adenocarcinoma_gleason_8     21\n",
              "4                    Adenocarcinoma_gleason_9     20\n",
              "5  Carcinoma_indiferenciado_de_celulas_claras      2\n",
              "6                      Hiperplasia_prostatica     13\n",
              "7                                         Neg    302\n",
              "8                                 Prostatitis     14"
            ]
          },
          "execution_count": 53,
          "metadata": {},
          "output_type": "execute_result"
        }
      ],
      "source": [
        "tl.get_grouped_values(df, 'Biopsia')"
      ]
    },
    {
      "cell_type": "markdown",
      "metadata": {
        "id": "yL_mXhMd_AE9"
      },
      "source": [
        "### **Agente Aislado**"
      ]
    },
    {
      "cell_type": "code",
      "execution_count": 54,
      "metadata": {
        "colab": {
          "base_uri": "https://localhost:8080/",
          "height": 143
        },
        "id": "9CXIrtblAvrW",
        "outputId": "6495315a-c166-407c-db0a-725ee3b23cc2"
      },
      "outputs": [
        {
          "data": {
            "text/html": [
              "<div>\n",
              "<style scoped>\n",
              "    .dataframe tbody tr th:only-of-type {\n",
              "        vertical-align: middle;\n",
              "    }\n",
              "\n",
              "    .dataframe tbody tr th {\n",
              "        vertical-align: top;\n",
              "    }\n",
              "\n",
              "    .dataframe thead th {\n",
              "        text-align: right;\n",
              "    }\n",
              "</style>\n",
              "<table border=\"1\" class=\"dataframe\">\n",
              "  <thead>\n",
              "    <tr style=\"text-align: right;\">\n",
              "      <th></th>\n",
              "      <th>Agente_aislado</th>\n",
              "      <th>count</th>\n",
              "    </tr>\n",
              "  </thead>\n",
              "  <tbody>\n",
              "    <tr>\n",
              "      <th>0</th>\n",
              "      <td>E.coli</td>\n",
              "      <td>6</td>\n",
              "    </tr>\n",
              "    <tr>\n",
              "      <th>1</th>\n",
              "      <td>No</td>\n",
              "      <td>531</td>\n",
              "    </tr>\n",
              "    <tr>\n",
              "      <th>2</th>\n",
              "      <td>Pseudomonas_aeruginosa</td>\n",
              "      <td>2</td>\n",
              "    </tr>\n",
              "  </tbody>\n",
              "</table>\n",
              "</div>"
            ],
            "text/plain": [
              "           Agente_aislado  count\n",
              "0                  E.coli      6\n",
              "1                      No    531\n",
              "2  Pseudomonas_aeruginosa      2"
            ]
          },
          "execution_count": 54,
          "metadata": {},
          "output_type": "execute_result"
        }
      ],
      "source": [
        "tl.get_grouped_values(df, 'Agente_aislado')"
      ]
    },
    {
      "cell_type": "markdown",
      "metadata": {
        "id": "GAq5ilj5_AAt"
      },
      "source": [
        "### **Patrón de Resistencia**"
      ]
    },
    {
      "cell_type": "code",
      "execution_count": 55,
      "metadata": {
        "colab": {
          "base_uri": "https://localhost:8080/",
          "height": 206
        },
        "id": "ecHDZdOvA-05",
        "outputId": "60e6cdca-7580-4ee7-f538-6727e4acf6cd"
      },
      "outputs": [
        {
          "data": {
            "text/html": [
              "<div>\n",
              "<style scoped>\n",
              "    .dataframe tbody tr th:only-of-type {\n",
              "        vertical-align: middle;\n",
              "    }\n",
              "\n",
              "    .dataframe tbody tr th {\n",
              "        vertical-align: top;\n",
              "    }\n",
              "\n",
              "    .dataframe thead th {\n",
              "        text-align: right;\n",
              "    }\n",
              "</style>\n",
              "<table border=\"1\" class=\"dataframe\">\n",
              "  <thead>\n",
              "    <tr style=\"text-align: right;\">\n",
              "      <th></th>\n",
              "      <th>Patron_de_resistencia</th>\n",
              "      <th>count</th>\n",
              "    </tr>\n",
              "  </thead>\n",
              "  <tbody>\n",
              "    <tr>\n",
              "      <th>0</th>\n",
              "      <td>Ampi_r,_cipro_r,_genta_r,_sulfa_m_r</td>\n",
              "      <td>1</td>\n",
              "    </tr>\n",
              "    <tr>\n",
              "      <th>1</th>\n",
              "      <td>Multi_sensible</td>\n",
              "      <td>2</td>\n",
              "    </tr>\n",
              "    <tr>\n",
              "      <th>2</th>\n",
              "      <td>No</td>\n",
              "      <td>532</td>\n",
              "    </tr>\n",
              "    <tr>\n",
              "      <th>3</th>\n",
              "      <td>Resistente_a_ampi,_cipro_y_genta</td>\n",
              "      <td>2</td>\n",
              "    </tr>\n",
              "    <tr>\n",
              "      <th>4</th>\n",
              "      <td>Resistente_a_ampi,_sulfa,_cefadroxilo,_cefurox...</td>\n",
              "      <td>2</td>\n",
              "    </tr>\n",
              "  </tbody>\n",
              "</table>\n",
              "</div>"
            ],
            "text/plain": [
              "                               Patron_de_resistencia  count\n",
              "0                Ampi_r,_cipro_r,_genta_r,_sulfa_m_r      1\n",
              "1                                     Multi_sensible      2\n",
              "2                                                 No    532\n",
              "3                   Resistente_a_ampi,_cipro_y_genta      2\n",
              "4  Resistente_a_ampi,_sulfa,_cefadroxilo,_cefurox...      2"
            ]
          },
          "execution_count": 55,
          "metadata": {},
          "output_type": "execute_result"
        }
      ],
      "source": [
        "tl.get_grouped_values(df, 'Patron_de_resistencia')"
      ]
    },
    {
      "cell_type": "markdown",
      "metadata": {
        "id": "6NzFRo0Y-_77"
      },
      "source": [
        "### **Hospitalización Último Mes**"
      ]
    },
    {
      "cell_type": "code",
      "execution_count": 56,
      "metadata": {
        "colab": {
          "base_uri": "https://localhost:8080/",
          "height": 112
        },
        "id": "GkxBhhr7BKNl",
        "outputId": "9f20244b-354b-4829-a34e-31cf1901a0c3"
      },
      "outputs": [
        {
          "data": {
            "text/html": [
              "<div>\n",
              "<style scoped>\n",
              "    .dataframe tbody tr th:only-of-type {\n",
              "        vertical-align: middle;\n",
              "    }\n",
              "\n",
              "    .dataframe tbody tr th {\n",
              "        vertical-align: top;\n",
              "    }\n",
              "\n",
              "    .dataframe thead th {\n",
              "        text-align: right;\n",
              "    }\n",
              "</style>\n",
              "<table border=\"1\" class=\"dataframe\">\n",
              "  <thead>\n",
              "    <tr style=\"text-align: right;\">\n",
              "      <th></th>\n",
              "      <th>Hospitalizacion_ultimo_mes</th>\n",
              "      <th>count</th>\n",
              "    </tr>\n",
              "  </thead>\n",
              "  <tbody>\n",
              "    <tr>\n",
              "      <th>0</th>\n",
              "      <td>No</td>\n",
              "      <td>534</td>\n",
              "    </tr>\n",
              "    <tr>\n",
              "      <th>1</th>\n",
              "      <td>Si</td>\n",
              "      <td>5</td>\n",
              "    </tr>\n",
              "  </tbody>\n",
              "</table>\n",
              "</div>"
            ],
            "text/plain": [
              "  Hospitalizacion_ultimo_mes  count\n",
              "0                         No    534\n",
              "1                         Si      5"
            ]
          },
          "execution_count": 56,
          "metadata": {},
          "output_type": "execute_result"
        }
      ],
      "source": [
        "tl.get_grouped_values(df, 'Hospitalizacion_ultimo_mes')"
      ]
    },
    {
      "cell_type": "markdown",
      "metadata": {
        "id": "tCBt5OMb-_32"
      },
      "source": [
        "### **Diabetes**"
      ]
    },
    {
      "cell_type": "code",
      "execution_count": 57,
      "metadata": {
        "colab": {
          "base_uri": "https://localhost:8080/",
          "height": 112
        },
        "id": "hBrgqThZIEAA",
        "outputId": "1e417c17-87eb-4e89-978b-d878ea1a9192"
      },
      "outputs": [
        {
          "data": {
            "text/html": [
              "<div>\n",
              "<style scoped>\n",
              "    .dataframe tbody tr th:only-of-type {\n",
              "        vertical-align: middle;\n",
              "    }\n",
              "\n",
              "    .dataframe tbody tr th {\n",
              "        vertical-align: top;\n",
              "    }\n",
              "\n",
              "    .dataframe thead th {\n",
              "        text-align: right;\n",
              "    }\n",
              "</style>\n",
              "<table border=\"1\" class=\"dataframe\">\n",
              "  <thead>\n",
              "    <tr style=\"text-align: right;\">\n",
              "      <th></th>\n",
              "      <th>Diabetes</th>\n",
              "      <th>count</th>\n",
              "    </tr>\n",
              "  </thead>\n",
              "  <tbody>\n",
              "    <tr>\n",
              "      <th>0</th>\n",
              "      <td>No</td>\n",
              "      <td>477</td>\n",
              "    </tr>\n",
              "    <tr>\n",
              "      <th>1</th>\n",
              "      <td>Si</td>\n",
              "      <td>62</td>\n",
              "    </tr>\n",
              "  </tbody>\n",
              "</table>\n",
              "</div>"
            ],
            "text/plain": [
              "  Diabetes  count\n",
              "0       No    477\n",
              "1       Si     62"
            ]
          },
          "execution_count": 57,
          "metadata": {},
          "output_type": "execute_result"
        }
      ],
      "source": [
        "tl.get_grouped_values(df, 'Diabetes')"
      ]
    },
    {
      "cell_type": "markdown",
      "metadata": {
        "id": "n4dJuCH7-_zH"
      },
      "source": [
        "### **Biopsias Previas**"
      ]
    },
    {
      "cell_type": "code",
      "execution_count": 58,
      "metadata": {
        "colab": {
          "base_uri": "https://localhost:8080/",
          "height": 112
        },
        "id": "xckeGpWVIM5i",
        "outputId": "574f620b-ba6f-4c43-8837-0789f43c6afc"
      },
      "outputs": [
        {
          "data": {
            "text/html": [
              "<div>\n",
              "<style scoped>\n",
              "    .dataframe tbody tr th:only-of-type {\n",
              "        vertical-align: middle;\n",
              "    }\n",
              "\n",
              "    .dataframe tbody tr th {\n",
              "        vertical-align: top;\n",
              "    }\n",
              "\n",
              "    .dataframe thead th {\n",
              "        text-align: right;\n",
              "    }\n",
              "</style>\n",
              "<table border=\"1\" class=\"dataframe\">\n",
              "  <thead>\n",
              "    <tr style=\"text-align: right;\">\n",
              "      <th></th>\n",
              "      <th>Biopsias_previas</th>\n",
              "      <th>count</th>\n",
              "    </tr>\n",
              "  </thead>\n",
              "  <tbody>\n",
              "    <tr>\n",
              "      <th>0</th>\n",
              "      <td>No</td>\n",
              "      <td>487</td>\n",
              "    </tr>\n",
              "    <tr>\n",
              "      <th>1</th>\n",
              "      <td>Si</td>\n",
              "      <td>52</td>\n",
              "    </tr>\n",
              "  </tbody>\n",
              "</table>\n",
              "</div>"
            ],
            "text/plain": [
              "  Biopsias_previas  count\n",
              "0               No    487\n",
              "1               Si     52"
            ]
          },
          "execution_count": 58,
          "metadata": {},
          "output_type": "execute_result"
        }
      ],
      "source": [
        "tl.get_grouped_values(df, 'Biopsias_previas')"
      ]
    },
    {
      "cell_type": "markdown",
      "metadata": {
        "id": "db3sUHkr-_uU"
      },
      "source": [
        "### **Volumen Prostático**"
      ]
    },
    {
      "cell_type": "code",
      "execution_count": null,
      "metadata": {
        "colab": {
          "base_uri": "https://localhost:8080/",
          "height": 112
        },
        "id": "7C0bWfUvIRuZ",
        "outputId": "896006d2-62b6-4d6b-9669-8c63dc796095"
      },
      "outputs": [
        {
          "data": {
            "text/html": [
              "\n",
              "\n",
              "  <div id=\"df-82563fa1-1c84-4ede-80d5-743a5b183f19\">\n",
              "    <div class=\"colab-df-container\">\n",
              "      <div>\n",
              "<style scoped>\n",
              "    .dataframe tbody tr th:only-of-type {\n",
              "        vertical-align: middle;\n",
              "    }\n",
              "\n",
              "    .dataframe tbody tr th {\n",
              "        vertical-align: top;\n",
              "    }\n",
              "\n",
              "    .dataframe thead th {\n",
              "        text-align: right;\n",
              "    }\n",
              "</style>\n",
              "<table border=\"1\" class=\"dataframe\">\n",
              "  <thead>\n",
              "    <tr style=\"text-align: right;\">\n",
              "      <th></th>\n",
              "      <th>Volumen_prostatico</th>\n",
              "      <th>count</th>\n",
              "    </tr>\n",
              "  </thead>\n",
              "  <tbody>\n",
              "    <tr>\n",
              "      <th>0</th>\n",
              "      <td>No</td>\n",
              "      <td>151</td>\n",
              "    </tr>\n",
              "    <tr>\n",
              "      <th>1</th>\n",
              "      <td>Si</td>\n",
              "      <td>386</td>\n",
              "    </tr>\n",
              "  </tbody>\n",
              "</table>\n",
              "</div>\n",
              "      <button class=\"colab-df-convert\" onclick=\"convertToInteractive('df-82563fa1-1c84-4ede-80d5-743a5b183f19')\"\n",
              "              title=\"Convert this dataframe to an interactive table.\"\n",
              "              style=\"display:none;\">\n",
              "\n",
              "  <svg xmlns=\"http://www.w3.org/2000/svg\" height=\"24px\"viewBox=\"0 0 24 24\"\n",
              "       width=\"24px\">\n",
              "    <path d=\"M0 0h24v24H0V0z\" fill=\"none\"/>\n",
              "    <path d=\"M18.56 5.44l.94 2.06.94-2.06 2.06-.94-2.06-.94-.94-2.06-.94 2.06-2.06.94zm-11 1L8.5 8.5l.94-2.06 2.06-.94-2.06-.94L8.5 2.5l-.94 2.06-2.06.94zm10 10l.94 2.06.94-2.06 2.06-.94-2.06-.94-.94-2.06-.94 2.06-2.06.94z\"/><path d=\"M17.41 7.96l-1.37-1.37c-.4-.4-.92-.59-1.43-.59-.52 0-1.04.2-1.43.59L10.3 9.45l-7.72 7.72c-.78.78-.78 2.05 0 2.83L4 21.41c.39.39.9.59 1.41.59.51 0 1.02-.2 1.41-.59l7.78-7.78 2.81-2.81c.8-.78.8-2.07 0-2.86zM5.41 20L4 18.59l7.72-7.72 1.47 1.35L5.41 20z\"/>\n",
              "  </svg>\n",
              "      </button>\n",
              "\n",
              "\n",
              "\n",
              "    <div id=\"df-1da12fa1-009e-40cc-9e9b-21d58f125ee2\">\n",
              "      <button class=\"colab-df-quickchart\" onclick=\"quickchart('df-1da12fa1-009e-40cc-9e9b-21d58f125ee2')\"\n",
              "              title=\"Suggest charts.\"\n",
              "              style=\"display:none;\">\n",
              "\n",
              "<svg xmlns=\"http://www.w3.org/2000/svg\" height=\"24px\"viewBox=\"0 0 24 24\"\n",
              "     width=\"24px\">\n",
              "    <g>\n",
              "        <path d=\"M19 3H5c-1.1 0-2 .9-2 2v14c0 1.1.9 2 2 2h14c1.1 0 2-.9 2-2V5c0-1.1-.9-2-2-2zM9 17H7v-7h2v7zm4 0h-2V7h2v10zm4 0h-2v-4h2v4z\"/>\n",
              "    </g>\n",
              "</svg>\n",
              "      </button>\n",
              "    </div>\n",
              "\n",
              "<style>\n",
              "  .colab-df-quickchart {\n",
              "    background-color: #E8F0FE;\n",
              "    border: none;\n",
              "    border-radius: 50%;\n",
              "    cursor: pointer;\n",
              "    display: none;\n",
              "    fill: #1967D2;\n",
              "    height: 32px;\n",
              "    padding: 0 0 0 0;\n",
              "    width: 32px;\n",
              "  }\n",
              "\n",
              "  .colab-df-quickchart:hover {\n",
              "    background-color: #E2EBFA;\n",
              "    box-shadow: 0px 1px 2px rgba(60, 64, 67, 0.3), 0px 1px 3px 1px rgba(60, 64, 67, 0.15);\n",
              "    fill: #174EA6;\n",
              "  }\n",
              "\n",
              "  [theme=dark] .colab-df-quickchart {\n",
              "    background-color: #3B4455;\n",
              "    fill: #D2E3FC;\n",
              "  }\n",
              "\n",
              "  [theme=dark] .colab-df-quickchart:hover {\n",
              "    background-color: #434B5C;\n",
              "    box-shadow: 0px 1px 3px 1px rgba(0, 0, 0, 0.15);\n",
              "    filter: drop-shadow(0px 1px 2px rgba(0, 0, 0, 0.3));\n",
              "    fill: #FFFFFF;\n",
              "  }\n",
              "</style>\n",
              "\n",
              "    <script>\n",
              "      async function quickchart(key) {\n",
              "        const containerElement = document.querySelector('#' + key);\n",
              "        const charts = await google.colab.kernel.invokeFunction(\n",
              "            'suggestCharts', [key], {});\n",
              "      }\n",
              "    </script>\n",
              "\n",
              "      <script>\n",
              "\n",
              "function displayQuickchartButton(domScope) {\n",
              "  let quickchartButtonEl =\n",
              "    domScope.querySelector('#df-1da12fa1-009e-40cc-9e9b-21d58f125ee2 button.colab-df-quickchart');\n",
              "  quickchartButtonEl.style.display =\n",
              "    google.colab.kernel.accessAllowed ? 'block' : 'none';\n",
              "}\n",
              "\n",
              "        displayQuickchartButton(document);\n",
              "      </script>\n",
              "      <style>\n",
              "    .colab-df-container {\n",
              "      display:flex;\n",
              "      flex-wrap:wrap;\n",
              "      gap: 12px;\n",
              "    }\n",
              "\n",
              "    .colab-df-convert {\n",
              "      background-color: #E8F0FE;\n",
              "      border: none;\n",
              "      border-radius: 50%;\n",
              "      cursor: pointer;\n",
              "      display: none;\n",
              "      fill: #1967D2;\n",
              "      height: 32px;\n",
              "      padding: 0 0 0 0;\n",
              "      width: 32px;\n",
              "    }\n",
              "\n",
              "    .colab-df-convert:hover {\n",
              "      background-color: #E2EBFA;\n",
              "      box-shadow: 0px 1px 2px rgba(60, 64, 67, 0.3), 0px 1px 3px 1px rgba(60, 64, 67, 0.15);\n",
              "      fill: #174EA6;\n",
              "    }\n",
              "\n",
              "    [theme=dark] .colab-df-convert {\n",
              "      background-color: #3B4455;\n",
              "      fill: #D2E3FC;\n",
              "    }\n",
              "\n",
              "    [theme=dark] .colab-df-convert:hover {\n",
              "      background-color: #434B5C;\n",
              "      box-shadow: 0px 1px 3px 1px rgba(0, 0, 0, 0.15);\n",
              "      filter: drop-shadow(0px 1px 2px rgba(0, 0, 0, 0.3));\n",
              "      fill: #FFFFFF;\n",
              "    }\n",
              "  </style>\n",
              "\n",
              "      <script>\n",
              "        const buttonEl =\n",
              "          document.querySelector('#df-82563fa1-1c84-4ede-80d5-743a5b183f19 button.colab-df-convert');\n",
              "        buttonEl.style.display =\n",
              "          google.colab.kernel.accessAllowed ? 'block' : 'none';\n",
              "\n",
              "        async function convertToInteractive(key) {\n",
              "          const element = document.querySelector('#df-82563fa1-1c84-4ede-80d5-743a5b183f19');\n",
              "          const dataTable =\n",
              "            await google.colab.kernel.invokeFunction('convertToInteractive',\n",
              "                                                     [key], {});\n",
              "          if (!dataTable) return;\n",
              "\n",
              "          const docLinkHtml = 'Like what you see? Visit the ' +\n",
              "            '<a target=\"_blank\" href=https://colab.research.google.com/notebooks/data_table.ipynb>data table notebook</a>'\n",
              "            + ' to learn more about interactive tables.';\n",
              "          element.innerHTML = '';\n",
              "          dataTable['output_type'] = 'display_data';\n",
              "          await google.colab.output.renderOutput(dataTable, element);\n",
              "          const docLink = document.createElement('div');\n",
              "          docLink.innerHTML = docLinkHtml;\n",
              "          element.appendChild(docLink);\n",
              "        }\n",
              "      </script>\n",
              "    </div>\n",
              "  </div>\n"
            ],
            "text/plain": [
              "  Volumen_prostatico  count\n",
              "0                 No    151\n",
              "1                 Si    386"
            ]
          },
          "execution_count": 52,
          "metadata": {},
          "output_type": "execute_result"
        }
      ],
      "source": [
        "get_grouped_values(df, 'Volumen_prostatico')"
      ]
    },
    {
      "cell_type": "markdown",
      "metadata": {
        "id": "bQpVb7bG-_pt"
      },
      "source": [
        "### **Cup**"
      ]
    },
    {
      "cell_type": "code",
      "execution_count": 59,
      "metadata": {
        "colab": {
          "base_uri": "https://localhost:8080/",
          "height": 112
        },
        "id": "D9c9FQJbIXy6",
        "outputId": "5f6e9225-6f69-4fb0-cc9a-6785effeb204"
      },
      "outputs": [
        {
          "data": {
            "text/html": [
              "<div>\n",
              "<style scoped>\n",
              "    .dataframe tbody tr th:only-of-type {\n",
              "        vertical-align: middle;\n",
              "    }\n",
              "\n",
              "    .dataframe tbody tr th {\n",
              "        vertical-align: top;\n",
              "    }\n",
              "\n",
              "    .dataframe thead th {\n",
              "        text-align: right;\n",
              "    }\n",
              "</style>\n",
              "<table border=\"1\" class=\"dataframe\">\n",
              "  <thead>\n",
              "    <tr style=\"text-align: right;\">\n",
              "      <th></th>\n",
              "      <th>Cup</th>\n",
              "      <th>count</th>\n",
              "    </tr>\n",
              "  </thead>\n",
              "  <tbody>\n",
              "    <tr>\n",
              "      <th>0</th>\n",
              "      <td>No</td>\n",
              "      <td>535</td>\n",
              "    </tr>\n",
              "    <tr>\n",
              "      <th>1</th>\n",
              "      <td>Si</td>\n",
              "      <td>4</td>\n",
              "    </tr>\n",
              "  </tbody>\n",
              "</table>\n",
              "</div>"
            ],
            "text/plain": [
              "  Cup  count\n",
              "0  No    535\n",
              "1  Si      4"
            ]
          },
          "execution_count": 59,
          "metadata": {},
          "output_type": "execute_result"
        }
      ],
      "source": [
        "tl.get_grouped_values(df, 'Cup')"
      ]
    },
    {
      "cell_type": "markdown",
      "metadata": {
        "id": "6i-pEniB-_d6"
      },
      "source": [
        "### **EPOC**"
      ]
    },
    {
      "cell_type": "code",
      "execution_count": 60,
      "metadata": {
        "colab": {
          "base_uri": "https://localhost:8080/",
          "height": 175
        },
        "id": "r8HCO0fKIesX",
        "outputId": "eb9e450c-16f4-40f4-a5c9-adf8ed941f06"
      },
      "outputs": [
        {
          "data": {
            "text/html": [
              "<div>\n",
              "<style scoped>\n",
              "    .dataframe tbody tr th:only-of-type {\n",
              "        vertical-align: middle;\n",
              "    }\n",
              "\n",
              "    .dataframe tbody tr th {\n",
              "        vertical-align: top;\n",
              "    }\n",
              "\n",
              "    .dataframe thead th {\n",
              "        text-align: right;\n",
              "    }\n",
              "</style>\n",
              "<table border=\"1\" class=\"dataframe\">\n",
              "  <thead>\n",
              "    <tr style=\"text-align: right;\">\n",
              "      <th></th>\n",
              "      <th>EPOC</th>\n",
              "      <th>count</th>\n",
              "    </tr>\n",
              "  </thead>\n",
              "  <tbody>\n",
              "    <tr>\n",
              "      <th>0</th>\n",
              "      <td>No</td>\n",
              "      <td>521</td>\n",
              "    </tr>\n",
              "    <tr>\n",
              "      <th>1</th>\n",
              "      <td>Si</td>\n",
              "      <td>12</td>\n",
              "    </tr>\n",
              "    <tr>\n",
              "      <th>2</th>\n",
              "      <td>Si,_asma</td>\n",
              "      <td>3</td>\n",
              "    </tr>\n",
              "    <tr>\n",
              "      <th>3</th>\n",
              "      <td>Si,_epoc</td>\n",
              "      <td>3</td>\n",
              "    </tr>\n",
              "  </tbody>\n",
              "</table>\n",
              "</div>"
            ],
            "text/plain": [
              "       EPOC  count\n",
              "0        No    521\n",
              "1        Si     12\n",
              "2  Si,_asma      3\n",
              "3  Si,_epoc      3"
            ]
          },
          "execution_count": 60,
          "metadata": {},
          "output_type": "execute_result"
        }
      ],
      "source": [
        "tl.get_grouped_values(df, 'EPOC')"
      ]
    },
    {
      "cell_type": "markdown",
      "metadata": {
        "id": "ITHFqG0B-_IN"
      },
      "source": [
        "### **Número de Días hasta Complicación Infecciosa**"
      ]
    },
    {
      "cell_type": "code",
      "execution_count": 61,
      "metadata": {
        "colab": {
          "base_uri": "https://localhost:8080/",
          "height": 238
        },
        "id": "PEoaCCpHfenh",
        "outputId": "bc0e8ac3-8124-4e9f-b017-e3d15d9a3bf4"
      },
      "outputs": [
        {
          "data": {
            "text/html": [
              "<div>\n",
              "<style scoped>\n",
              "    .dataframe tbody tr th:only-of-type {\n",
              "        vertical-align: middle;\n",
              "    }\n",
              "\n",
              "    .dataframe tbody tr th {\n",
              "        vertical-align: top;\n",
              "    }\n",
              "\n",
              "    .dataframe thead th {\n",
              "        text-align: right;\n",
              "    }\n",
              "</style>\n",
              "<table border=\"1\" class=\"dataframe\">\n",
              "  <thead>\n",
              "    <tr style=\"text-align: right;\">\n",
              "      <th></th>\n",
              "      <th>N_dias_hasta_comp_infecciosa</th>\n",
              "      <th>count</th>\n",
              "    </tr>\n",
              "  </thead>\n",
              "  <tbody>\n",
              "    <tr>\n",
              "      <th>0</th>\n",
              "      <td>1</td>\n",
              "      <td>5</td>\n",
              "    </tr>\n",
              "    <tr>\n",
              "      <th>1</th>\n",
              "      <td>2</td>\n",
              "      <td>8</td>\n",
              "    </tr>\n",
              "    <tr>\n",
              "      <th>2</th>\n",
              "      <td>3</td>\n",
              "      <td>8</td>\n",
              "    </tr>\n",
              "    <tr>\n",
              "      <th>3</th>\n",
              "      <td>5</td>\n",
              "      <td>2</td>\n",
              "    </tr>\n",
              "    <tr>\n",
              "      <th>4</th>\n",
              "      <td>9</td>\n",
              "      <td>2</td>\n",
              "    </tr>\n",
              "    <tr>\n",
              "      <th>5</th>\n",
              "      <td>No</td>\n",
              "      <td>514</td>\n",
              "    </tr>\n",
              "  </tbody>\n",
              "</table>\n",
              "</div>"
            ],
            "text/plain": [
              "  N_dias_hasta_comp_infecciosa  count\n",
              "0                            1      5\n",
              "1                            2      8\n",
              "2                            3      8\n",
              "3                            5      2\n",
              "4                            9      2\n",
              "5                           No    514"
            ]
          },
          "execution_count": 61,
          "metadata": {},
          "output_type": "execute_result"
        }
      ],
      "source": [
        "tl.get_grouped_values(df, 'N_dias_hasta_comp_infecciosa')"
      ]
    },
    {
      "cell_type": "markdown",
      "metadata": {
        "id": "yKZDVb8wGhhl"
      },
      "source": [
        "### **Fiebre**"
      ]
    },
    {
      "cell_type": "code",
      "execution_count": 62,
      "metadata": {
        "colab": {
          "base_uri": "https://localhost:8080/",
          "height": 112
        },
        "id": "dCHcAP3RI7hy",
        "outputId": "d358be81-f14f-46b6-a21b-7b627ab2fb0e"
      },
      "outputs": [
        {
          "data": {
            "text/html": [
              "<div>\n",
              "<style scoped>\n",
              "    .dataframe tbody tr th:only-of-type {\n",
              "        vertical-align: middle;\n",
              "    }\n",
              "\n",
              "    .dataframe tbody tr th {\n",
              "        vertical-align: top;\n",
              "    }\n",
              "\n",
              "    .dataframe thead th {\n",
              "        text-align: right;\n",
              "    }\n",
              "</style>\n",
              "<table border=\"1\" class=\"dataframe\">\n",
              "  <thead>\n",
              "    <tr style=\"text-align: right;\">\n",
              "      <th></th>\n",
              "      <th>Fiebre</th>\n",
              "      <th>count</th>\n",
              "    </tr>\n",
              "  </thead>\n",
              "  <tbody>\n",
              "    <tr>\n",
              "      <th>0</th>\n",
              "      <td>No</td>\n",
              "      <td>503</td>\n",
              "    </tr>\n",
              "    <tr>\n",
              "      <th>1</th>\n",
              "      <td>Si</td>\n",
              "      <td>36</td>\n",
              "    </tr>\n",
              "  </tbody>\n",
              "</table>\n",
              "</div>"
            ],
            "text/plain": [
              "  Fiebre  count\n",
              "0     No    503\n",
              "1     Si     36"
            ]
          },
          "execution_count": 62,
          "metadata": {},
          "output_type": "execute_result"
        }
      ],
      "source": [
        "tl.get_grouped_values(df, 'Fiebre')"
      ]
    },
    {
      "cell_type": "markdown",
      "metadata": {
        "id": "9kGpZnpQGk2j"
      },
      "source": [
        "### **Itu**"
      ]
    },
    {
      "cell_type": "code",
      "execution_count": 63,
      "metadata": {
        "colab": {
          "base_uri": "https://localhost:8080/",
          "height": 112
        },
        "id": "kEV1Rm7iJCkf",
        "outputId": "918ee4f7-328c-4fd4-e436-31c683cfbc99"
      },
      "outputs": [
        {
          "data": {
            "text/html": [
              "<div>\n",
              "<style scoped>\n",
              "    .dataframe tbody tr th:only-of-type {\n",
              "        vertical-align: middle;\n",
              "    }\n",
              "\n",
              "    .dataframe tbody tr th {\n",
              "        vertical-align: top;\n",
              "    }\n",
              "\n",
              "    .dataframe thead th {\n",
              "        text-align: right;\n",
              "    }\n",
              "</style>\n",
              "<table border=\"1\" class=\"dataframe\">\n",
              "  <thead>\n",
              "    <tr style=\"text-align: right;\">\n",
              "      <th></th>\n",
              "      <th>Itu</th>\n",
              "      <th>count</th>\n",
              "    </tr>\n",
              "  </thead>\n",
              "  <tbody>\n",
              "    <tr>\n",
              "      <th>0</th>\n",
              "      <td>No</td>\n",
              "      <td>533</td>\n",
              "    </tr>\n",
              "    <tr>\n",
              "      <th>1</th>\n",
              "      <td>Si</td>\n",
              "      <td>6</td>\n",
              "    </tr>\n",
              "  </tbody>\n",
              "</table>\n",
              "</div>"
            ],
            "text/plain": [
              "  Itu  count\n",
              "0  No    533\n",
              "1  Si      6"
            ]
          },
          "execution_count": 63,
          "metadata": {},
          "output_type": "execute_result"
        }
      ],
      "source": [
        "tl.get_grouped_values(df, 'Itu')"
      ]
    },
    {
      "cell_type": "markdown",
      "metadata": {
        "id": "DPtZTXY5GosG"
      },
      "source": [
        "### **Hospitalización**"
      ]
    },
    {
      "cell_type": "code",
      "execution_count": 64,
      "metadata": {
        "colab": {
          "base_uri": "https://localhost:8080/",
          "height": 112
        },
        "id": "xBLzGhtpGgj5",
        "outputId": "2dee49e4-c70c-46ad-df0d-217e3d713202"
      },
      "outputs": [
        {
          "data": {
            "text/html": [
              "<div>\n",
              "<style scoped>\n",
              "    .dataframe tbody tr th:only-of-type {\n",
              "        vertical-align: middle;\n",
              "    }\n",
              "\n",
              "    .dataframe tbody tr th {\n",
              "        vertical-align: top;\n",
              "    }\n",
              "\n",
              "    .dataframe thead th {\n",
              "        text-align: right;\n",
              "    }\n",
              "</style>\n",
              "<table border=\"1\" class=\"dataframe\">\n",
              "  <thead>\n",
              "    <tr style=\"text-align: right;\">\n",
              "      <th></th>\n",
              "      <th>Hospitalizacion</th>\n",
              "      <th>count</th>\n",
              "    </tr>\n",
              "  </thead>\n",
              "  <tbody>\n",
              "    <tr>\n",
              "      <th>0</th>\n",
              "      <td>No</td>\n",
              "      <td>516</td>\n",
              "    </tr>\n",
              "    <tr>\n",
              "      <th>1</th>\n",
              "      <td>Si</td>\n",
              "      <td>23</td>\n",
              "    </tr>\n",
              "  </tbody>\n",
              "</table>\n",
              "</div>"
            ],
            "text/plain": [
              "  Hospitalizacion  count\n",
              "0              No    516\n",
              "1              Si     23"
            ]
          },
          "execution_count": 64,
          "metadata": {},
          "output_type": "execute_result"
        }
      ],
      "source": [
        "tl.get_grouped_values(df, 'Hospitalizacion')"
      ]
    },
    {
      "cell_type": "markdown",
      "metadata": {
        "id": "eAIocjrs-RfI"
      },
      "source": [
        "### **Generalización de Categorías**\n",
        "\n",
        "Tras haber visualizado todas las categorías de las variables categóricas, se encontraron que en varias columnas había una sola categoría mayoritaria que clasificaba la mayor parte de los registros, y el resto, eran categorías sueltas que clasificaban entre 5 a 20 registros únicamente.\n",
        "\n",
        "Como estas categorías sueltas eran muy específicas y, entre todas, describían la existencia o inexistencia de un padecimiento, se generalizaron las categorías a una sola y en algunos casos, también se cambió el nombre de la columna.\n",
        "\n",
        "Por otro lado, en el caso de \"N_dias_hasta_comp_infecciosa\" se encontraron valores númericos que indicaban la cantidad de días ocurridos hasta la aparición de complicación infecciosa. Todos estos valores se generalizaron a \"Si\" indicando solo la existencia de una complicación infecciosa, en lugar de los días ocurridos.\n",
        "\n",
        "En resumen, se generalizaron las siguientes columnas: \"EPOC\", \"Patron_de_resistencia\", \"Agente_aislado\", \"Tipo_de_cultivo\" y \"N_dias_hasta_comp_infecciosa\"."
      ]
    },
    {
      "cell_type": "code",
      "execution_count": 66,
      "metadata": {
        "id": "plMWM0et_qS6"
      },
      "outputs": [],
      "source": [
        "prev_serie = tl.get_grouped_values(df, 'Agente_aislado')\n",
        "\n",
        "tl.generalize(df, 'Patron_de_resistencia')\n",
        "tl.generalize(df, 'EPOC')\n",
        "tl.generalize(df, 'Agente_aislado')\n",
        "tl.generalize(df, 'Tipo_de_cultivo', new_column=\"Cultivo\")\n",
        "tl.generalize(df, 'N_dias_hasta_comp_infecciosa', new_column='Complicacion_infecciosa')"
      ]
    },
    {
      "cell_type": "markdown",
      "metadata": {
        "id": "V-gDDhq7b_Q3"
      },
      "source": [
        "Antes:"
      ]
    },
    {
      "cell_type": "code",
      "execution_count": 67,
      "metadata": {
        "colab": {
          "base_uri": "https://localhost:8080/",
          "height": 143
        },
        "id": "b9PfD0p3b9Ow",
        "outputId": "6065ffed-9668-462e-8ce6-d2715afd9af7"
      },
      "outputs": [
        {
          "data": {
            "text/html": [
              "<div>\n",
              "<style scoped>\n",
              "    .dataframe tbody tr th:only-of-type {\n",
              "        vertical-align: middle;\n",
              "    }\n",
              "\n",
              "    .dataframe tbody tr th {\n",
              "        vertical-align: top;\n",
              "    }\n",
              "\n",
              "    .dataframe thead th {\n",
              "        text-align: right;\n",
              "    }\n",
              "</style>\n",
              "<table border=\"1\" class=\"dataframe\">\n",
              "  <thead>\n",
              "    <tr style=\"text-align: right;\">\n",
              "      <th></th>\n",
              "      <th>Agente_aislado</th>\n",
              "      <th>count</th>\n",
              "    </tr>\n",
              "  </thead>\n",
              "  <tbody>\n",
              "    <tr>\n",
              "      <th>0</th>\n",
              "      <td>E.coli</td>\n",
              "      <td>6</td>\n",
              "    </tr>\n",
              "    <tr>\n",
              "      <th>1</th>\n",
              "      <td>No</td>\n",
              "      <td>531</td>\n",
              "    </tr>\n",
              "    <tr>\n",
              "      <th>2</th>\n",
              "      <td>Pseudomonas_aeruginosa</td>\n",
              "      <td>2</td>\n",
              "    </tr>\n",
              "  </tbody>\n",
              "</table>\n",
              "</div>"
            ],
            "text/plain": [
              "           Agente_aislado  count\n",
              "0                  E.coli      6\n",
              "1                      No    531\n",
              "2  Pseudomonas_aeruginosa      2"
            ]
          },
          "execution_count": 67,
          "metadata": {},
          "output_type": "execute_result"
        }
      ],
      "source": [
        "prev_serie"
      ]
    },
    {
      "cell_type": "markdown",
      "metadata": {
        "id": "ZVAEwBkMcA9W"
      },
      "source": [
        "Después:"
      ]
    },
    {
      "cell_type": "code",
      "execution_count": 68,
      "metadata": {
        "colab": {
          "base_uri": "https://localhost:8080/",
          "height": 112
        },
        "id": "NPc61d3yb2wU",
        "outputId": "07ced87f-fd9f-4c18-ed8b-a0fe269d42b7"
      },
      "outputs": [
        {
          "data": {
            "text/html": [
              "<div>\n",
              "<style scoped>\n",
              "    .dataframe tbody tr th:only-of-type {\n",
              "        vertical-align: middle;\n",
              "    }\n",
              "\n",
              "    .dataframe tbody tr th {\n",
              "        vertical-align: top;\n",
              "    }\n",
              "\n",
              "    .dataframe thead th {\n",
              "        text-align: right;\n",
              "    }\n",
              "</style>\n",
              "<table border=\"1\" class=\"dataframe\">\n",
              "  <thead>\n",
              "    <tr style=\"text-align: right;\">\n",
              "      <th></th>\n",
              "      <th>Agente_aislado</th>\n",
              "      <th>count</th>\n",
              "    </tr>\n",
              "  </thead>\n",
              "  <tbody>\n",
              "    <tr>\n",
              "      <th>0</th>\n",
              "      <td>No</td>\n",
              "      <td>531</td>\n",
              "    </tr>\n",
              "    <tr>\n",
              "      <th>1</th>\n",
              "      <td>Si</td>\n",
              "      <td>8</td>\n",
              "    </tr>\n",
              "  </tbody>\n",
              "</table>\n",
              "</div>"
            ],
            "text/plain": [
              "  Agente_aislado  count\n",
              "0             No    531\n",
              "1             Si      8"
            ]
          },
          "execution_count": 68,
          "metadata": {},
          "output_type": "execute_result"
        }
      ],
      "source": [
        "tl.get_grouped_values(df, 'Agente_aislado')"
      ]
    },
    {
      "cell_type": "markdown",
      "metadata": {
        "id": "uknzx6G-JdCb"
      },
      "source": [
        "### **Tipado de Columnas**"
      ]
    },
    {
      "cell_type": "code",
      "execution_count": 69,
      "metadata": {
        "id": "ztmcf_QuJjzh"
      },
      "outputs": [],
      "source": [
        "categorical_data = df.select_dtypes(exclude=[np.number])\n",
        "categorical_columns = categorical_data.columns\n",
        "\n",
        "for col_name in categorical_columns:\n",
        "  df[col_name] = df[col_name].astype('category')"
      ]
    },
    {
      "cell_type": "code",
      "execution_count": 70,
      "metadata": {
        "colab": {
          "base_uri": "https://localhost:8080/"
        },
        "id": "mFHQhlWdMsBV",
        "outputId": "c52e20ef-257d-4d15-afb9-6f5ba52e1caa"
      },
      "outputs": [
        {
          "data": {
            "text/plain": [
              "Edad                           float64\n",
              "Diabetes                      category\n",
              "Hospitalizacion_ultimo_mes    category\n",
              "Psa                            float64\n",
              "Biopsias_previas              category\n",
              "Volumen_prostatico            category\n",
              "Antibiotico_en_profilaxis     category\n",
              "N_Muestras                     float64\n",
              "Cup                           category\n",
              "EPOC                          category\n",
              "Biopsia                       category\n",
              "Complicacion_infecciosa       category\n",
              "Fiebre                        category\n",
              "Itu                           category\n",
              "Cultivo                       category\n",
              "Agente_aislado                category\n",
              "Patron_de_resistencia         category\n",
              "Hospitalizacion               category\n",
              "dtype: object"
            ]
          },
          "execution_count": 70,
          "metadata": {},
          "output_type": "execute_result"
        }
      ],
      "source": [
        "df.dtypes"
      ]
    },
    {
      "cell_type": "markdown",
      "metadata": {
        "id": "cQWZfpwtvUNj"
      },
      "source": [
        "## **Preprocesamiento de Datos**\n",
        "\n",
        "Tras haber terminando con la limpienza, se preprocesaron los datos del dataset para que puedan ser interpretados por los modelos de Machine Learning. Para las variables númericas no se hizo ningún preprocesamiento, pero para las variables categóricas se codificaron las categorías a valores numéricos."
      ]
    },
    {
      "cell_type": "markdown",
      "metadata": {
        "id": "BsQHokGKRhGp"
      },
      "source": [
        "### **Copia del Dataset Limpio**\n",
        "\n",
        "Antes de preprocesar, también se guardó una copia de los datos limpiados en formato .csv, la cual se puede encontrar dentro del repositorio del proyecto como df_cleaned.csv"
      ]
    },
    {
      "cell_type": "code",
      "execution_count": 71,
      "metadata": {
        "id": "0X4TV6lKOyYZ"
      },
      "outputs": [],
      "source": [
        "df_cleaned = df.copy()"
      ]
    },
    {
      "cell_type": "markdown",
      "metadata": {
        "id": "HAv5qpUmSkrf"
      },
      "source": [
        "### **Codificación**\n",
        "\n",
        "En utils.py se creó una función \"label_encode_columns\", la cual hace uso de la funcion LabelEncoder de sklearn para codificar las columnas categóricas y que, además, devuelve un diccionario con las codificaciones hechas. Por cada columna, a cada categoría se le asignó un número que va desde 0 hasta N número de Categorías en la Columna."
      ]
    },
    {
      "cell_type": "code",
      "execution_count": 72,
      "metadata": {
        "id": "nZiPyifHpa2x"
      },
      "outputs": [],
      "source": [
        "category_cols = list(df.select_dtypes(include=['category']).columns)\n",
        "encoding_dict = tl.label_encode_columns(df, category_cols)"
      ]
    },
    {
      "cell_type": "markdown",
      "metadata": {
        "id": "nednFfGmWprV"
      },
      "source": [
        "Asimismo, se guardó una copia con la codificación:"
      ]
    },
    {
      "cell_type": "code",
      "execution_count": 73,
      "metadata": {
        "id": "QDkCisAcWpWy"
      },
      "outputs": [],
      "source": [
        "df_encoded = df.copy()"
      ]
    },
    {
      "cell_type": "markdown",
      "metadata": {
        "id": "AFKJe0WkPJQw"
      },
      "source": [
        "### **Resultados de la Codificación**\n",
        "\n",
        "Como se puede apreciar, las columnas categóricas fueron codificadas y ahora solo hay presencia de valores númericos"
      ]
    },
    {
      "cell_type": "code",
      "execution_count": 75,
      "metadata": {
        "colab": {
          "base_uri": "https://localhost:8080/",
          "height": 270
        },
        "id": "rDNjs3e3PEZT",
        "outputId": "b32a9eb2-6c87-4ccd-d47a-1a4fc18caba3"
      },
      "outputs": [
        {
          "data": {
            "text/html": [
              "<div>\n",
              "<style scoped>\n",
              "    .dataframe tbody tr th:only-of-type {\n",
              "        vertical-align: middle;\n",
              "    }\n",
              "\n",
              "    .dataframe tbody tr th {\n",
              "        vertical-align: top;\n",
              "    }\n",
              "\n",
              "    .dataframe thead th {\n",
              "        text-align: right;\n",
              "    }\n",
              "</style>\n",
              "<table border=\"1\" class=\"dataframe\">\n",
              "  <thead>\n",
              "    <tr style=\"text-align: right;\">\n",
              "      <th></th>\n",
              "      <th>Edad</th>\n",
              "      <th>Diabetes</th>\n",
              "      <th>Hospitalizacion_ultimo_mes</th>\n",
              "      <th>Psa</th>\n",
              "      <th>Biopsias_previas</th>\n",
              "      <th>Volumen_prostatico</th>\n",
              "      <th>Antibiotico_en_profilaxis</th>\n",
              "      <th>N_Muestras</th>\n",
              "      <th>Cup</th>\n",
              "      <th>EPOC</th>\n",
              "      <th>Biopsia</th>\n",
              "      <th>Complicacion_infecciosa</th>\n",
              "      <th>Fiebre</th>\n",
              "      <th>Itu</th>\n",
              "      <th>Cultivo</th>\n",
              "      <th>Agente_aislado</th>\n",
              "      <th>Patron_de_resistencia</th>\n",
              "      <th>Hospitalizacion</th>\n",
              "    </tr>\n",
              "  </thead>\n",
              "  <tbody>\n",
              "    <tr>\n",
              "      <th>0</th>\n",
              "      <td>53.0</td>\n",
              "      <td>0</td>\n",
              "      <td>0</td>\n",
              "      <td>4.0</td>\n",
              "      <td>0</td>\n",
              "      <td>1</td>\n",
              "      <td>1</td>\n",
              "      <td>12.0</td>\n",
              "      <td>0</td>\n",
              "      <td>0</td>\n",
              "      <td>7</td>\n",
              "      <td>1</td>\n",
              "      <td>1</td>\n",
              "      <td>0</td>\n",
              "      <td>0</td>\n",
              "      <td>0</td>\n",
              "      <td>0</td>\n",
              "      <td>1</td>\n",
              "    </tr>\n",
              "    <tr>\n",
              "      <th>1</th>\n",
              "      <td>56.0</td>\n",
              "      <td>0</td>\n",
              "      <td>0</td>\n",
              "      <td>7.7</td>\n",
              "      <td>0</td>\n",
              "      <td>1</td>\n",
              "      <td>1</td>\n",
              "      <td>12.0</td>\n",
              "      <td>0</td>\n",
              "      <td>0</td>\n",
              "      <td>7</td>\n",
              "      <td>1</td>\n",
              "      <td>1</td>\n",
              "      <td>0</td>\n",
              "      <td>0</td>\n",
              "      <td>0</td>\n",
              "      <td>0</td>\n",
              "      <td>1</td>\n",
              "    </tr>\n",
              "    <tr>\n",
              "      <th>2</th>\n",
              "      <td>57.0</td>\n",
              "      <td>0</td>\n",
              "      <td>0</td>\n",
              "      <td>29.0</td>\n",
              "      <td>1</td>\n",
              "      <td>1</td>\n",
              "      <td>1</td>\n",
              "      <td>24.0</td>\n",
              "      <td>0</td>\n",
              "      <td>0</td>\n",
              "      <td>7</td>\n",
              "      <td>1</td>\n",
              "      <td>1</td>\n",
              "      <td>0</td>\n",
              "      <td>1</td>\n",
              "      <td>1</td>\n",
              "      <td>1</td>\n",
              "      <td>1</td>\n",
              "    </tr>\n",
              "    <tr>\n",
              "      <th>3</th>\n",
              "      <td>56.0</td>\n",
              "      <td>0</td>\n",
              "      <td>0</td>\n",
              "      <td>7.0</td>\n",
              "      <td>0</td>\n",
              "      <td>1</td>\n",
              "      <td>1</td>\n",
              "      <td>12.0</td>\n",
              "      <td>0</td>\n",
              "      <td>0</td>\n",
              "      <td>7</td>\n",
              "      <td>1</td>\n",
              "      <td>1</td>\n",
              "      <td>0</td>\n",
              "      <td>0</td>\n",
              "      <td>0</td>\n",
              "      <td>0</td>\n",
              "      <td>1</td>\n",
              "    </tr>\n",
              "    <tr>\n",
              "      <th>4</th>\n",
              "      <td>55.0</td>\n",
              "      <td>0</td>\n",
              "      <td>0</td>\n",
              "      <td>29.0</td>\n",
              "      <td>1</td>\n",
              "      <td>1</td>\n",
              "      <td>1</td>\n",
              "      <td>24.0</td>\n",
              "      <td>0</td>\n",
              "      <td>0</td>\n",
              "      <td>7</td>\n",
              "      <td>1</td>\n",
              "      <td>1</td>\n",
              "      <td>0</td>\n",
              "      <td>1</td>\n",
              "      <td>1</td>\n",
              "      <td>0</td>\n",
              "      <td>1</td>\n",
              "    </tr>\n",
              "  </tbody>\n",
              "</table>\n",
              "</div>"
            ],
            "text/plain": [
              "   Edad  Diabetes  Hospitalizacion_ultimo_mes   Psa  Biopsias_previas  \\\n",
              "0  53.0         0                           0   4.0                 0   \n",
              "1  56.0         0                           0   7.7                 0   \n",
              "2  57.0         0                           0  29.0                 1   \n",
              "3  56.0         0                           0   7.0                 0   \n",
              "4  55.0         0                           0  29.0                 1   \n",
              "\n",
              "   Volumen_prostatico  Antibiotico_en_profilaxis  N_Muestras  Cup  EPOC  \\\n",
              "0                   1                          1        12.0    0     0   \n",
              "1                   1                          1        12.0    0     0   \n",
              "2                   1                          1        24.0    0     0   \n",
              "3                   1                          1        12.0    0     0   \n",
              "4                   1                          1        24.0    0     0   \n",
              "\n",
              "   Biopsia  Complicacion_infecciosa  Fiebre  Itu  Cultivo  Agente_aislado  \\\n",
              "0        7                        1       1    0        0               0   \n",
              "1        7                        1       1    0        0               0   \n",
              "2        7                        1       1    0        1               1   \n",
              "3        7                        1       1    0        0               0   \n",
              "4        7                        1       1    0        1               1   \n",
              "\n",
              "   Patron_de_resistencia  Hospitalizacion  \n",
              "0                      0                1  \n",
              "1                      0                1  \n",
              "2                      1                1  \n",
              "3                      0                1  \n",
              "4                      0                1  "
            ]
          },
          "execution_count": 75,
          "metadata": {},
          "output_type": "execute_result"
        }
      ],
      "source": [
        "df.head(5)"
      ]
    },
    {
      "cell_type": "markdown",
      "metadata": {
        "id": "Pp3SmtA5q5my"
      },
      "source": [
        "### **Diccionario de Codificación**\n",
        "\n",
        "Las codificaciones hechas fueron guardadas dentro del archivo DictEncoding.json dentro del repositorio del proyecto."
      ]
    },
    {
      "cell_type": "code",
      "execution_count": 77,
      "metadata": {
        "colab": {
          "base_uri": "https://localhost:8080/"
        },
        "id": "dEzC4veLM_0D",
        "outputId": "a14b5c65-d926-48fc-f457-9e2bbc80453f"
      },
      "outputs": [],
      "source": [
        "json_file = json.dumps(encoding_dict, cls=tl.NpEncoder, sort_keys=True, indent=3)\n"
      ]
    },
    {
      "cell_type": "markdown",
      "metadata": {
        "id": "P2oE3VuBN_d6"
      },
      "source": [
        "## **Exportación de Resultados**\n",
        "\n",
        "Tras haber analizado el dataset y hecho las transformaciones correspondientes, se procedió a exportar el trabajo realizado de la siguiente forma:\n",
        "\n",
        "\n",
        "- **Cleaned_dataset.csv**: copia del dataset con todos los datos ya limpiados y sin codificar.\n",
        "- **Encoded_dataset.csv**: copia del dataset con todas las variables categóricas preprocesadas. Este archivo es el destinado a entrenar el modelo de Machile Learning.\n",
        "- **DictEncoding.json**: resultados de la codifcación realizada para las variables categóricas en el preprocesamiento de datos.\n",
        "\n",
        "Todos estos archivos están disponibles dentro de la carpeta EDA_ETL_Results en el repositorio del proyecto."
      ]
    },
    {
      "cell_type": "code",
      "execution_count": 78,
      "metadata": {
        "id": "23cwgrybyOXw"
      },
      "outputs": [],
      "source": [
        "df_cleaned.to_csv('EDA_ETL_Results/Cleaned_dataset.csv', encoding='utf-8')\n",
        "df_encoded.to_csv('EDA_ETL_Results/Encoded_dataset.csv', encoding='utf-8')\n",
        "\n",
        "with open('EDA_ETL_Results/DictEncoding.json', 'w') as f:\n",
        "  f.write(json_file)\n",
        "  f.close()"
      ]
    }
  ],
  "metadata": {
    "colab": {
      "provenance": []
    },
    "kernelspec": {
      "display_name": "Python 3",
      "language": "python",
      "name": "python3"
    },
    "language_info": {
      "codemirror_mode": {
        "name": "ipython",
        "version": 3
      },
      "file_extension": ".py",
      "mimetype": "text/x-python",
      "name": "python",
      "nbconvert_exporter": "python",
      "pygments_lexer": "ipython3",
      "version": "3.11.4"
    },
    "orig_nbformat": 4,
    "vscode": {
      "interpreter": {
        "hash": "ae0e7af47f894f9476ada5eb18ddb08363018cc3b7dc70bce08ae16d38df8604"
      }
    }
  },
  "nbformat": 4,
  "nbformat_minor": 0
}
